{
 "cells": [
  {
   "cell_type": "code",
   "execution_count": 1,
   "id": "a09bfb3c-59b0-4c39-abff-cbb2d7dd9b09",
   "metadata": {},
   "outputs": [],
   "source": [
    "import numpy as np\n",
    "import pandas as pd\n",
    "import matplotlib.pyplot as plt\n",
    "import matplotlib.style as style\n",
    "import seaborn as sns\n",
    "import itertools"
   ]
  },
  {
   "cell_type": "code",
   "execution_count": 2,
   "id": "d01b1385-74ab-4620-970d-14caf27b169a",
   "metadata": {},
   "outputs": [],
   "source": [
    "missing_val=  ['N/a', 'Na', np.nan]\n",
    "df = pd.read_csv('lending_club_loan_two.csv', na_values= missing_val)"
   ]
  },
  {
   "cell_type": "code",
   "execution_count": 3,
   "id": "69bd52cc-aca5-4177-9ba0-4a1502c6526c",
   "metadata": {},
   "outputs": [
    {
     "name": "stdout",
     "output_type": "stream",
     "text": [
      "<class 'pandas.core.frame.DataFrame'>\n",
      "RangeIndex: 396030 entries, 0 to 396029\n",
      "Data columns (total 27 columns):\n",
      " #   Column                Non-Null Count   Dtype  \n",
      "---  ------                --------------   -----  \n",
      " 0   loan_amnt             396030 non-null  float64\n",
      " 1   term                  396030 non-null  object \n",
      " 2   int_rate              396030 non-null  float64\n",
      " 3   installment           396030 non-null  float64\n",
      " 4   grade                 396030 non-null  object \n",
      " 5   sub_grade             396030 non-null  object \n",
      " 6   emp_title             373103 non-null  object \n",
      " 7   emp_length            377729 non-null  object \n",
      " 8   home_ownership        396030 non-null  object \n",
      " 9   annual_inc            396030 non-null  float64\n",
      " 10  verification_status   396030 non-null  object \n",
      " 11  issue_d               396030 non-null  object \n",
      " 12  loan_status           396030 non-null  object \n",
      " 13  purpose               396030 non-null  object \n",
      " 14  title                 394275 non-null  object \n",
      " 15  dti                   396030 non-null  float64\n",
      " 16  earliest_cr_line      396030 non-null  object \n",
      " 17  open_acc              396030 non-null  float64\n",
      " 18  pub_rec               396030 non-null  float64\n",
      " 19  revol_bal             396030 non-null  float64\n",
      " 20  revol_util            395754 non-null  float64\n",
      " 21  total_acc             396030 non-null  float64\n",
      " 22  initial_list_status   396030 non-null  object \n",
      " 23  application_type      396030 non-null  object \n",
      " 24  mort_acc              358235 non-null  float64\n",
      " 25  pub_rec_bankruptcies  395495 non-null  float64\n",
      " 26  address               396030 non-null  object \n",
      "dtypes: float64(12), object(15)\n",
      "memory usage: 81.6+ MB\n"
     ]
    }
   ],
   "source": [
    "# Database column types\n",
    "df.info(verbose=True)"
   ]
  },
  {
   "cell_type": "code",
   "execution_count": 4,
   "id": "47646e3f-09e8-4c0b-a2d1-ea53e0979565",
   "metadata": {},
   "outputs": [],
   "source": [
    "pd.set_option('display.max_columns', None)"
   ]
  },
  {
   "cell_type": "code",
   "execution_count": 5,
   "id": "45c234bd-c9c4-4bfe-a649-b0178dc718d3",
   "metadata": {},
   "outputs": [
    {
     "data": {
      "text/html": [
       "<div>\n",
       "<style scoped>\n",
       "    .dataframe tbody tr th:only-of-type {\n",
       "        vertical-align: middle;\n",
       "    }\n",
       "\n",
       "    .dataframe tbody tr th {\n",
       "        vertical-align: top;\n",
       "    }\n",
       "\n",
       "    .dataframe thead th {\n",
       "        text-align: right;\n",
       "    }\n",
       "</style>\n",
       "<table border=\"1\" class=\"dataframe\">\n",
       "  <thead>\n",
       "    <tr style=\"text-align: right;\">\n",
       "      <th></th>\n",
       "      <th>loan_amnt</th>\n",
       "      <th>term</th>\n",
       "      <th>int_rate</th>\n",
       "      <th>installment</th>\n",
       "      <th>grade</th>\n",
       "      <th>sub_grade</th>\n",
       "      <th>emp_title</th>\n",
       "      <th>emp_length</th>\n",
       "      <th>home_ownership</th>\n",
       "      <th>annual_inc</th>\n",
       "      <th>verification_status</th>\n",
       "      <th>issue_d</th>\n",
       "      <th>loan_status</th>\n",
       "      <th>purpose</th>\n",
       "      <th>title</th>\n",
       "      <th>dti</th>\n",
       "      <th>earliest_cr_line</th>\n",
       "      <th>open_acc</th>\n",
       "      <th>pub_rec</th>\n",
       "      <th>revol_bal</th>\n",
       "      <th>revol_util</th>\n",
       "      <th>total_acc</th>\n",
       "      <th>initial_list_status</th>\n",
       "      <th>application_type</th>\n",
       "      <th>mort_acc</th>\n",
       "      <th>pub_rec_bankruptcies</th>\n",
       "      <th>address</th>\n",
       "    </tr>\n",
       "  </thead>\n",
       "  <tbody>\n",
       "    <tr>\n",
       "      <th>0</th>\n",
       "      <td>10000.0</td>\n",
       "      <td>36 months</td>\n",
       "      <td>11.44</td>\n",
       "      <td>329.48</td>\n",
       "      <td>B</td>\n",
       "      <td>B4</td>\n",
       "      <td>Marketing</td>\n",
       "      <td>10+ years</td>\n",
       "      <td>RENT</td>\n",
       "      <td>117000.0</td>\n",
       "      <td>Not Verified</td>\n",
       "      <td>Jan-2015</td>\n",
       "      <td>Fully Paid</td>\n",
       "      <td>vacation</td>\n",
       "      <td>Vacation</td>\n",
       "      <td>26.24</td>\n",
       "      <td>Jun-1990</td>\n",
       "      <td>16.0</td>\n",
       "      <td>0.0</td>\n",
       "      <td>36369.0</td>\n",
       "      <td>41.8</td>\n",
       "      <td>25.0</td>\n",
       "      <td>w</td>\n",
       "      <td>INDIVIDUAL</td>\n",
       "      <td>0.0</td>\n",
       "      <td>0.0</td>\n",
       "      <td>0174 Michelle Gateway\\r\\nMendozaberg, OK 22690</td>\n",
       "    </tr>\n",
       "    <tr>\n",
       "      <th>1</th>\n",
       "      <td>8000.0</td>\n",
       "      <td>36 months</td>\n",
       "      <td>11.99</td>\n",
       "      <td>265.68</td>\n",
       "      <td>B</td>\n",
       "      <td>B5</td>\n",
       "      <td>Credit analyst</td>\n",
       "      <td>4 years</td>\n",
       "      <td>MORTGAGE</td>\n",
       "      <td>65000.0</td>\n",
       "      <td>Not Verified</td>\n",
       "      <td>Jan-2015</td>\n",
       "      <td>Fully Paid</td>\n",
       "      <td>debt_consolidation</td>\n",
       "      <td>Debt consolidation</td>\n",
       "      <td>22.05</td>\n",
       "      <td>Jul-2004</td>\n",
       "      <td>17.0</td>\n",
       "      <td>0.0</td>\n",
       "      <td>20131.0</td>\n",
       "      <td>53.3</td>\n",
       "      <td>27.0</td>\n",
       "      <td>f</td>\n",
       "      <td>INDIVIDUAL</td>\n",
       "      <td>3.0</td>\n",
       "      <td>0.0</td>\n",
       "      <td>1076 Carney Fort Apt. 347\\r\\nLoganmouth, SD 05113</td>\n",
       "    </tr>\n",
       "    <tr>\n",
       "      <th>2</th>\n",
       "      <td>15600.0</td>\n",
       "      <td>36 months</td>\n",
       "      <td>10.49</td>\n",
       "      <td>506.97</td>\n",
       "      <td>B</td>\n",
       "      <td>B3</td>\n",
       "      <td>Statistician</td>\n",
       "      <td>&lt; 1 year</td>\n",
       "      <td>RENT</td>\n",
       "      <td>43057.0</td>\n",
       "      <td>Source Verified</td>\n",
       "      <td>Jan-2015</td>\n",
       "      <td>Fully Paid</td>\n",
       "      <td>credit_card</td>\n",
       "      <td>Credit card refinancing</td>\n",
       "      <td>12.79</td>\n",
       "      <td>Aug-2007</td>\n",
       "      <td>13.0</td>\n",
       "      <td>0.0</td>\n",
       "      <td>11987.0</td>\n",
       "      <td>92.2</td>\n",
       "      <td>26.0</td>\n",
       "      <td>f</td>\n",
       "      <td>INDIVIDUAL</td>\n",
       "      <td>0.0</td>\n",
       "      <td>0.0</td>\n",
       "      <td>87025 Mark Dale Apt. 269\\r\\nNew Sabrina, WV 05113</td>\n",
       "    </tr>\n",
       "    <tr>\n",
       "      <th>3</th>\n",
       "      <td>7200.0</td>\n",
       "      <td>36 months</td>\n",
       "      <td>6.49</td>\n",
       "      <td>220.65</td>\n",
       "      <td>A</td>\n",
       "      <td>A2</td>\n",
       "      <td>Client Advocate</td>\n",
       "      <td>6 years</td>\n",
       "      <td>RENT</td>\n",
       "      <td>54000.0</td>\n",
       "      <td>Not Verified</td>\n",
       "      <td>Nov-2014</td>\n",
       "      <td>Fully Paid</td>\n",
       "      <td>credit_card</td>\n",
       "      <td>Credit card refinancing</td>\n",
       "      <td>2.60</td>\n",
       "      <td>Sep-2006</td>\n",
       "      <td>6.0</td>\n",
       "      <td>0.0</td>\n",
       "      <td>5472.0</td>\n",
       "      <td>21.5</td>\n",
       "      <td>13.0</td>\n",
       "      <td>f</td>\n",
       "      <td>INDIVIDUAL</td>\n",
       "      <td>0.0</td>\n",
       "      <td>0.0</td>\n",
       "      <td>823 Reid Ford\\r\\nDelacruzside, MA 00813</td>\n",
       "    </tr>\n",
       "    <tr>\n",
       "      <th>4</th>\n",
       "      <td>24375.0</td>\n",
       "      <td>60 months</td>\n",
       "      <td>17.27</td>\n",
       "      <td>609.33</td>\n",
       "      <td>C</td>\n",
       "      <td>C5</td>\n",
       "      <td>Destiny Management Inc.</td>\n",
       "      <td>9 years</td>\n",
       "      <td>MORTGAGE</td>\n",
       "      <td>55000.0</td>\n",
       "      <td>Verified</td>\n",
       "      <td>Apr-2013</td>\n",
       "      <td>Charged Off</td>\n",
       "      <td>credit_card</td>\n",
       "      <td>Credit Card Refinance</td>\n",
       "      <td>33.95</td>\n",
       "      <td>Mar-1999</td>\n",
       "      <td>13.0</td>\n",
       "      <td>0.0</td>\n",
       "      <td>24584.0</td>\n",
       "      <td>69.8</td>\n",
       "      <td>43.0</td>\n",
       "      <td>f</td>\n",
       "      <td>INDIVIDUAL</td>\n",
       "      <td>1.0</td>\n",
       "      <td>0.0</td>\n",
       "      <td>679 Luna Roads\\r\\nGreggshire, VA 11650</td>\n",
       "    </tr>\n",
       "  </tbody>\n",
       "</table>\n",
       "</div>"
      ],
      "text/plain": [
       "   loan_amnt        term  int_rate  installment grade sub_grade  \\\n",
       "0    10000.0   36 months     11.44       329.48     B        B4   \n",
       "1     8000.0   36 months     11.99       265.68     B        B5   \n",
       "2    15600.0   36 months     10.49       506.97     B        B3   \n",
       "3     7200.0   36 months      6.49       220.65     A        A2   \n",
       "4    24375.0   60 months     17.27       609.33     C        C5   \n",
       "\n",
       "                 emp_title emp_length home_ownership  annual_inc  \\\n",
       "0                Marketing  10+ years           RENT    117000.0   \n",
       "1          Credit analyst     4 years       MORTGAGE     65000.0   \n",
       "2             Statistician   < 1 year           RENT     43057.0   \n",
       "3          Client Advocate    6 years           RENT     54000.0   \n",
       "4  Destiny Management Inc.    9 years       MORTGAGE     55000.0   \n",
       "\n",
       "  verification_status   issue_d  loan_status             purpose  \\\n",
       "0        Not Verified  Jan-2015   Fully Paid            vacation   \n",
       "1        Not Verified  Jan-2015   Fully Paid  debt_consolidation   \n",
       "2     Source Verified  Jan-2015   Fully Paid         credit_card   \n",
       "3        Not Verified  Nov-2014   Fully Paid         credit_card   \n",
       "4            Verified  Apr-2013  Charged Off         credit_card   \n",
       "\n",
       "                     title    dti earliest_cr_line  open_acc  pub_rec  \\\n",
       "0                 Vacation  26.24         Jun-1990      16.0      0.0   \n",
       "1       Debt consolidation  22.05         Jul-2004      17.0      0.0   \n",
       "2  Credit card refinancing  12.79         Aug-2007      13.0      0.0   \n",
       "3  Credit card refinancing   2.60         Sep-2006       6.0      0.0   \n",
       "4    Credit Card Refinance  33.95         Mar-1999      13.0      0.0   \n",
       "\n",
       "   revol_bal  revol_util  total_acc initial_list_status application_type  \\\n",
       "0    36369.0        41.8       25.0                   w       INDIVIDUAL   \n",
       "1    20131.0        53.3       27.0                   f       INDIVIDUAL   \n",
       "2    11987.0        92.2       26.0                   f       INDIVIDUAL   \n",
       "3     5472.0        21.5       13.0                   f       INDIVIDUAL   \n",
       "4    24584.0        69.8       43.0                   f       INDIVIDUAL   \n",
       "\n",
       "   mort_acc  pub_rec_bankruptcies  \\\n",
       "0       0.0                   0.0   \n",
       "1       3.0                   0.0   \n",
       "2       0.0                   0.0   \n",
       "3       0.0                   0.0   \n",
       "4       1.0                   0.0   \n",
       "\n",
       "                                             address  \n",
       "0     0174 Michelle Gateway\\r\\nMendozaberg, OK 22690  \n",
       "1  1076 Carney Fort Apt. 347\\r\\nLoganmouth, SD 05113  \n",
       "2  87025 Mark Dale Apt. 269\\r\\nNew Sabrina, WV 05113  \n",
       "3            823 Reid Ford\\r\\nDelacruzside, MA 00813  \n",
       "4             679 Luna Roads\\r\\nGreggshire, VA 11650  "
      ]
     },
     "execution_count": 5,
     "metadata": {},
     "output_type": "execute_result"
    }
   ],
   "source": [
    "df.head()\n"
   ]
  },
  {
   "cell_type": "code",
   "execution_count": 6,
   "id": "23eb44c6-c7e3-47cb-b716-da55055a6ac0",
   "metadata": {},
   "outputs": [
    {
     "data": {
      "text/html": [
       "<div>\n",
       "<style scoped>\n",
       "    .dataframe tbody tr th:only-of-type {\n",
       "        vertical-align: middle;\n",
       "    }\n",
       "\n",
       "    .dataframe tbody tr th {\n",
       "        vertical-align: top;\n",
       "    }\n",
       "\n",
       "    .dataframe thead th {\n",
       "        text-align: right;\n",
       "    }\n",
       "</style>\n",
       "<table border=\"1\" class=\"dataframe\">\n",
       "  <thead>\n",
       "    <tr style=\"text-align: right;\">\n",
       "      <th></th>\n",
       "      <th>loan_amnt</th>\n",
       "      <th>int_rate</th>\n",
       "      <th>installment</th>\n",
       "      <th>annual_inc</th>\n",
       "      <th>dti</th>\n",
       "      <th>open_acc</th>\n",
       "      <th>pub_rec</th>\n",
       "      <th>revol_bal</th>\n",
       "      <th>revol_util</th>\n",
       "      <th>total_acc</th>\n",
       "      <th>mort_acc</th>\n",
       "      <th>pub_rec_bankruptcies</th>\n",
       "    </tr>\n",
       "  </thead>\n",
       "  <tbody>\n",
       "    <tr>\n",
       "      <th>count</th>\n",
       "      <td>396030.000000</td>\n",
       "      <td>396030.000000</td>\n",
       "      <td>396030.000000</td>\n",
       "      <td>3.960300e+05</td>\n",
       "      <td>396030.000000</td>\n",
       "      <td>396030.000000</td>\n",
       "      <td>396030.000000</td>\n",
       "      <td>3.960300e+05</td>\n",
       "      <td>395754.000000</td>\n",
       "      <td>396030.000000</td>\n",
       "      <td>358235.000000</td>\n",
       "      <td>395495.000000</td>\n",
       "    </tr>\n",
       "    <tr>\n",
       "      <th>mean</th>\n",
       "      <td>14113.888089</td>\n",
       "      <td>13.639400</td>\n",
       "      <td>431.849698</td>\n",
       "      <td>7.420318e+04</td>\n",
       "      <td>17.379514</td>\n",
       "      <td>11.311153</td>\n",
       "      <td>0.178191</td>\n",
       "      <td>1.584454e+04</td>\n",
       "      <td>53.791749</td>\n",
       "      <td>25.414744</td>\n",
       "      <td>1.813991</td>\n",
       "      <td>0.121648</td>\n",
       "    </tr>\n",
       "    <tr>\n",
       "      <th>std</th>\n",
       "      <td>8357.441341</td>\n",
       "      <td>4.472157</td>\n",
       "      <td>250.727790</td>\n",
       "      <td>6.163762e+04</td>\n",
       "      <td>18.019092</td>\n",
       "      <td>5.137649</td>\n",
       "      <td>0.530671</td>\n",
       "      <td>2.059184e+04</td>\n",
       "      <td>24.452193</td>\n",
       "      <td>11.886991</td>\n",
       "      <td>2.147930</td>\n",
       "      <td>0.356174</td>\n",
       "    </tr>\n",
       "    <tr>\n",
       "      <th>min</th>\n",
       "      <td>500.000000</td>\n",
       "      <td>5.320000</td>\n",
       "      <td>16.080000</td>\n",
       "      <td>0.000000e+00</td>\n",
       "      <td>0.000000</td>\n",
       "      <td>0.000000</td>\n",
       "      <td>0.000000</td>\n",
       "      <td>0.000000e+00</td>\n",
       "      <td>0.000000</td>\n",
       "      <td>2.000000</td>\n",
       "      <td>0.000000</td>\n",
       "      <td>0.000000</td>\n",
       "    </tr>\n",
       "    <tr>\n",
       "      <th>25%</th>\n",
       "      <td>8000.000000</td>\n",
       "      <td>10.490000</td>\n",
       "      <td>250.330000</td>\n",
       "      <td>4.500000e+04</td>\n",
       "      <td>11.280000</td>\n",
       "      <td>8.000000</td>\n",
       "      <td>0.000000</td>\n",
       "      <td>6.025000e+03</td>\n",
       "      <td>35.800000</td>\n",
       "      <td>17.000000</td>\n",
       "      <td>0.000000</td>\n",
       "      <td>0.000000</td>\n",
       "    </tr>\n",
       "    <tr>\n",
       "      <th>50%</th>\n",
       "      <td>12000.000000</td>\n",
       "      <td>13.330000</td>\n",
       "      <td>375.430000</td>\n",
       "      <td>6.400000e+04</td>\n",
       "      <td>16.910000</td>\n",
       "      <td>10.000000</td>\n",
       "      <td>0.000000</td>\n",
       "      <td>1.118100e+04</td>\n",
       "      <td>54.800000</td>\n",
       "      <td>24.000000</td>\n",
       "      <td>1.000000</td>\n",
       "      <td>0.000000</td>\n",
       "    </tr>\n",
       "    <tr>\n",
       "      <th>75%</th>\n",
       "      <td>20000.000000</td>\n",
       "      <td>16.490000</td>\n",
       "      <td>567.300000</td>\n",
       "      <td>9.000000e+04</td>\n",
       "      <td>22.980000</td>\n",
       "      <td>14.000000</td>\n",
       "      <td>0.000000</td>\n",
       "      <td>1.962000e+04</td>\n",
       "      <td>72.900000</td>\n",
       "      <td>32.000000</td>\n",
       "      <td>3.000000</td>\n",
       "      <td>0.000000</td>\n",
       "    </tr>\n",
       "    <tr>\n",
       "      <th>max</th>\n",
       "      <td>40000.000000</td>\n",
       "      <td>30.990000</td>\n",
       "      <td>1533.810000</td>\n",
       "      <td>8.706582e+06</td>\n",
       "      <td>9999.000000</td>\n",
       "      <td>90.000000</td>\n",
       "      <td>86.000000</td>\n",
       "      <td>1.743266e+06</td>\n",
       "      <td>892.300000</td>\n",
       "      <td>151.000000</td>\n",
       "      <td>34.000000</td>\n",
       "      <td>8.000000</td>\n",
       "    </tr>\n",
       "  </tbody>\n",
       "</table>\n",
       "</div>"
      ],
      "text/plain": [
       "           loan_amnt       int_rate    installment    annual_inc  \\\n",
       "count  396030.000000  396030.000000  396030.000000  3.960300e+05   \n",
       "mean    14113.888089      13.639400     431.849698  7.420318e+04   \n",
       "std      8357.441341       4.472157     250.727790  6.163762e+04   \n",
       "min       500.000000       5.320000      16.080000  0.000000e+00   \n",
       "25%      8000.000000      10.490000     250.330000  4.500000e+04   \n",
       "50%     12000.000000      13.330000     375.430000  6.400000e+04   \n",
       "75%     20000.000000      16.490000     567.300000  9.000000e+04   \n",
       "max     40000.000000      30.990000    1533.810000  8.706582e+06   \n",
       "\n",
       "                 dti       open_acc        pub_rec     revol_bal  \\\n",
       "count  396030.000000  396030.000000  396030.000000  3.960300e+05   \n",
       "mean       17.379514      11.311153       0.178191  1.584454e+04   \n",
       "std        18.019092       5.137649       0.530671  2.059184e+04   \n",
       "min         0.000000       0.000000       0.000000  0.000000e+00   \n",
       "25%        11.280000       8.000000       0.000000  6.025000e+03   \n",
       "50%        16.910000      10.000000       0.000000  1.118100e+04   \n",
       "75%        22.980000      14.000000       0.000000  1.962000e+04   \n",
       "max      9999.000000      90.000000      86.000000  1.743266e+06   \n",
       "\n",
       "          revol_util      total_acc       mort_acc  pub_rec_bankruptcies  \n",
       "count  395754.000000  396030.000000  358235.000000         395495.000000  \n",
       "mean       53.791749      25.414744       1.813991              0.121648  \n",
       "std        24.452193      11.886991       2.147930              0.356174  \n",
       "min         0.000000       2.000000       0.000000              0.000000  \n",
       "25%        35.800000      17.000000       0.000000              0.000000  \n",
       "50%        54.800000      24.000000       1.000000              0.000000  \n",
       "75%        72.900000      32.000000       3.000000              0.000000  \n",
       "max       892.300000     151.000000      34.000000              8.000000  "
      ]
     },
     "execution_count": 6,
     "metadata": {},
     "output_type": "execute_result"
    }
   ],
   "source": [
    "df.describe()"
   ]
  },
  {
   "cell_type": "markdown",
   "id": "6f63ef04-c76c-4491-aac5-0a40adc2948d",
   "metadata": {},
   "source": [
    "# Cleaning Data"
   ]
  },
  {
   "cell_type": "markdown",
   "id": "d9240dbb-107a-42d0-b5b3-1411ade78c1e",
   "metadata": {},
   "source": [
    "## Null Calculations"
   ]
  },
  {
   "cell_type": "code",
   "execution_count": 7,
   "id": "c8e0267e-85a5-4a67-88cc-39e3b4110b07",
   "metadata": {},
   "outputs": [
    {
     "data": {
      "text/plain": [
       "loan_amnt               0.00\n",
       "term                    0.00\n",
       "int_rate                0.00\n",
       "installment             0.00\n",
       "grade                   0.00\n",
       "sub_grade               0.00\n",
       "emp_title               5.79\n",
       "emp_length              4.62\n",
       "home_ownership          0.00\n",
       "annual_inc              0.00\n",
       "verification_status     0.00\n",
       "issue_d                 0.00\n",
       "loan_status             0.00\n",
       "purpose                 0.00\n",
       "title                   0.44\n",
       "dti                     0.00\n",
       "earliest_cr_line        0.00\n",
       "open_acc                0.00\n",
       "pub_rec                 0.00\n",
       "revol_bal               0.00\n",
       "revol_util              0.07\n",
       "total_acc               0.00\n",
       "initial_list_status     0.00\n",
       "application_type        0.00\n",
       "mort_acc                9.54\n",
       "pub_rec_bankruptcies    0.14\n",
       "address                 0.00\n",
       "dtype: float64"
      ]
     },
     "execution_count": 7,
     "metadata": {},
     "output_type": "execute_result"
    }
   ],
   "source": [
    "# % null value in each column\n",
    "round(df.isnull().sum() / df.shape[0] * 100.00,2)"
   ]
  },
  {
   "cell_type": "code",
   "execution_count": 8,
   "id": "245e0235-a1a3-4005-ba58-24dcda301112",
   "metadata": {},
   "outputs": [
    {
     "data": {
      "image/png": "[encoded data removed]",
      "text/plain": [
       "<Figure size 1296x432 with 1 Axes>"
      ]
     },
     "metadata": {
      "needs_background": "light"
     },
     "output_type": "display_data"
    }
   ],
   "source": [
    "dfnul = pd.DataFrame((df.isnull().sum())*100/df.shape[0]).reset_index()\n",
    "dfnul.columns = ['Column Name', 'Null Values Percentage']\n",
    "fig = plt.figure(figsize=(18,6))\n",
    "ax = sns.pointplot(x=\"Column Name\",y=\"Null Values Percentage\",data=dfnul,color='blue')\n",
    "plt.xticks(rotation =90,fontsize =7)\n",
    "ax.axhline(3, ls='--',color='red')\n",
    "plt.title(\"Percentage of Missing values in application data\")\n",
    "plt.ylabel(\"Null Values PERCENTAGE\")\n",
    "plt.xlabel(\"COLUMNS\")\n",
    "plt.show()"
   ]
  },
  {
   "cell_type": "markdown",
   "id": "881df51f-c445-4b3f-985a-d785e13ae7d9",
   "metadata": {},
   "source": [
    "There are 3 columns that are >3% null"
   ]
  },
  {
   "cell_type": "code",
   "execution_count": 9,
   "id": "8d0588dd-6faf-467e-ab06-aa7808f4d0ae",
   "metadata": {},
   "outputs": [],
   "source": [
    "##shows the nulls that are >3%\n",
    "nul3df = dfnul[dfnul[\"Null Values Percentage\"]>=3]"
   ]
  },
  {
   "cell_type": "code",
   "execution_count": 10,
   "id": "32b3ac43-cfde-42bc-9c95-d678f9f8e61f",
   "metadata": {},
   "outputs": [
    {
     "data": {
      "text/html": [
       "<div>\n",
       "<style scoped>\n",
       "    .dataframe tbody tr th:only-of-type {\n",
       "        vertical-align: middle;\n",
       "    }\n",
       "\n",
       "    .dataframe tbody tr th {\n",
       "        vertical-align: top;\n",
       "    }\n",
       "\n",
       "    .dataframe thead th {\n",
       "        text-align: right;\n",
       "    }\n",
       "</style>\n",
       "<table border=\"1\" class=\"dataframe\">\n",
       "  <thead>\n",
       "    <tr style=\"text-align: right;\">\n",
       "      <th></th>\n",
       "      <th>Column Name</th>\n",
       "      <th>Null Values Percentage</th>\n",
       "    </tr>\n",
       "  </thead>\n",
       "  <tbody>\n",
       "    <tr>\n",
       "      <th>6</th>\n",
       "      <td>emp_title</td>\n",
       "      <td>5.789208</td>\n",
       "    </tr>\n",
       "    <tr>\n",
       "      <th>7</th>\n",
       "      <td>emp_length</td>\n",
       "      <td>4.621115</td>\n",
       "    </tr>\n",
       "    <tr>\n",
       "      <th>24</th>\n",
       "      <td>mort_acc</td>\n",
       "      <td>9.543469</td>\n",
       "    </tr>\n",
       "  </tbody>\n",
       "</table>\n",
       "</div>"
      ],
      "text/plain": [
       "   Column Name  Null Values Percentage\n",
       "6    emp_title                5.789208\n",
       "7   emp_length                4.621115\n",
       "24    mort_acc                9.543469"
      ]
     },
     "execution_count": 10,
     "metadata": {},
     "output_type": "execute_result"
    }
   ],
   "source": [
    "nul3df"
   ]
  },
  {
   "cell_type": "markdown",
   "id": "1eba3e76-18f9-4b93-b9d0-651ea7c8f95f",
   "metadata": {},
   "source": [
    "### Viewing Coerealations"
   ]
  },
  {
   "cell_type": "code",
   "execution_count": 11,
   "id": "5aa1f9e5-9e19-4a98-959b-d868209d1cbb",
   "metadata": {},
   "outputs": [
    {
     "data": {
      "image/png": "[encoded data removed]",
      "text/plain": [
       "<Figure size 864x864 with 2 Axes>"
      ]
     },
     "metadata": {
      "needs_background": "light"
     },
     "output_type": "display_data"
    }
   ],
   "source": [
    "fig = plt.figure(figsize=(12,12))\n",
    "ax = sns.heatmap(df.corr(), cmap=\"RdYlGn\",annot=False,linewidth =1)"
   ]
  },
  {
   "cell_type": "markdown",
   "id": "72724db1-e669-4d5c-8777-a8a87e478f28",
   "metadata": {},
   "source": [
    "HIgh cor-\n",
    "loan amount and instalment\n",
    "open acc and tot acc\n",
    "pub_rec and pub rec bankruptcies\n",
    "tot account and moracc\n"
   ]
  },
  {
   "cell_type": "markdown",
   "id": "8fa1438b-8fa3-4d05-a793-bfabeaca7f8d",
   "metadata": {},
   "source": [
    "### Checking for outliers to replace null with mean median or mode"
   ]
  },
  {
   "cell_type": "code",
   "execution_count": 12,
   "id": "ed676d90-645d-4408-a63d-85d5f3881d5b",
   "metadata": {},
   "outputs": [
    {
     "data": {
      "text/plain": [
       "<AxesSubplot:xlabel='loan_amnt'>"
      ]
     },
     "execution_count": 12,
     "metadata": {},
     "output_type": "execute_result"
    },
    {
     "data": {
      "image/png": "[encoded data removed]",
      "text/plain": [
       "<Figure size 432x288 with 1 Axes>"
      ]
     },
     "metadata": {
      "needs_background": "light"
     },
     "output_type": "display_data"
    }
   ],
   "source": [
    "sns.boxplot(x=df[\"loan_amnt\"])"
   ]
  },
  {
   "cell_type": "code",
   "execution_count": 13,
   "id": "9393e998-c1a5-4d13-b77c-ec56a90ef1cf",
   "metadata": {},
   "outputs": [
    {
     "data": {
      "text/plain": [
       "<AxesSubplot:xlabel='total_acc'>"
      ]
     },
     "execution_count": 13,
     "metadata": {},
     "output_type": "execute_result"
    },
    {
     "data": {
      "image/png": "[encoded data removed]",
      "text/plain": [
       "<Figure size 432x288 with 1 Axes>"
      ]
     },
     "metadata": {
      "needs_background": "light"
     },
     "output_type": "display_data"
    }
   ],
   "source": [
    "sns.boxplot(x=df[\"total_acc\"])"
   ]
  },
  {
   "cell_type": "code",
   "execution_count": 14,
   "id": "a792bcbd-67f5-449c-aa17-be3620dfaeeb",
   "metadata": {},
   "outputs": [
    {
     "data": {
      "text/plain": [
       "<AxesSubplot:xlabel='open_acc'>"
      ]
     },
     "execution_count": 14,
     "metadata": {},
     "output_type": "execute_result"
    },
    {
     "data": {
      "image/png": "[encoded data removed]",
      "text/plain": [
       "<Figure size 432x288 with 1 Axes>"
      ]
     },
     "metadata": {
      "needs_background": "light"
     },
     "output_type": "display_data"
    }
   ],
   "source": [
    "sns.boxplot(x=df[\"open_acc\"])"
   ]
  },
  {
   "cell_type": "code",
   "execution_count": 15,
   "id": "df1707dd-58ea-4ed1-acc2-1e29ed388593",
   "metadata": {},
   "outputs": [
    {
     "data": {
      "text/plain": [
       "<AxesSubplot:xlabel='mort_acc'>"
      ]
     },
     "execution_count": 15,
     "metadata": {},
     "output_type": "execute_result"
    },
    {
     "data": {
      "image/png": "[encoded data removed]",
      "text/plain": [
       "<Figure size 432x288 with 1 Axes>"
      ]
     },
     "metadata": {
      "needs_background": "light"
     },
     "output_type": "display_data"
    }
   ],
   "source": [
    "sns.boxplot(x=df[\"mort_acc\"])"
   ]
  },
  {
   "cell_type": "markdown",
   "id": "d2b5e499-f29d-4b73-8993-a488cb28b452",
   "metadata": {},
   "source": [
    "## Replacing nulls with Modes"
   ]
  },
  {
   "cell_type": "code",
   "execution_count": 16,
   "id": "6df63659-d64b-4e38-a794-eafefe6514ca",
   "metadata": {},
   "outputs": [],
   "source": [
    "df['mort_acc'].fillna(df['mort_acc'].mode()[0], inplace=True)"
   ]
  },
  {
   "cell_type": "code",
   "execution_count": 17,
   "id": "01eb0fab-be68-4ddb-94fc-484133395c12",
   "metadata": {},
   "outputs": [
    {
     "data": {
      "text/plain": [
       "loan_amnt               0.00\n",
       "term                    0.00\n",
       "int_rate                0.00\n",
       "installment             0.00\n",
       "grade                   0.00\n",
       "sub_grade               0.00\n",
       "emp_title               5.79\n",
       "emp_length              4.62\n",
       "home_ownership          0.00\n",
       "annual_inc              0.00\n",
       "verification_status     0.00\n",
       "issue_d                 0.00\n",
       "loan_status             0.00\n",
       "purpose                 0.00\n",
       "title                   0.44\n",
       "dti                     0.00\n",
       "earliest_cr_line        0.00\n",
       "open_acc                0.00\n",
       "pub_rec                 0.00\n",
       "revol_bal               0.00\n",
       "revol_util              0.07\n",
       "total_acc               0.00\n",
       "initial_list_status     0.00\n",
       "application_type        0.00\n",
       "mort_acc                0.00\n",
       "pub_rec_bankruptcies    0.14\n",
       "address                 0.00\n",
       "dtype: float64"
      ]
     },
     "execution_count": 17,
     "metadata": {},
     "output_type": "execute_result"
    }
   ],
   "source": [
    "# % null value in each column\n",
    "round(df.isnull().sum() / df.shape[0] * 100.00,2)"
   ]
  },
  {
   "cell_type": "code",
   "execution_count": 18,
   "id": "71330c0c-dc14-4c39-988e-0f7e359fb042",
   "metadata": {},
   "outputs": [],
   "source": [
    "df['pub_rec_bankruptcies'].fillna(df['pub_rec_bankruptcies'].mode()[0], inplace=True)"
   ]
  },
  {
   "cell_type": "code",
   "execution_count": 19,
   "id": "b2fde917-8d27-43ef-aade-69c72b3dbd1d",
   "metadata": {},
   "outputs": [
    {
     "data": {
      "text/plain": [
       "loan_amnt               0.00\n",
       "term                    0.00\n",
       "int_rate                0.00\n",
       "installment             0.00\n",
       "grade                   0.00\n",
       "sub_grade               0.00\n",
       "emp_title               5.79\n",
       "emp_length              4.62\n",
       "home_ownership          0.00\n",
       "annual_inc              0.00\n",
       "verification_status     0.00\n",
       "issue_d                 0.00\n",
       "loan_status             0.00\n",
       "purpose                 0.00\n",
       "title                   0.44\n",
       "dti                     0.00\n",
       "earliest_cr_line        0.00\n",
       "open_acc                0.00\n",
       "pub_rec                 0.00\n",
       "revol_bal               0.00\n",
       "revol_util              0.07\n",
       "total_acc               0.00\n",
       "initial_list_status     0.00\n",
       "application_type        0.00\n",
       "mort_acc                0.00\n",
       "pub_rec_bankruptcies    0.00\n",
       "address                 0.00\n",
       "dtype: float64"
      ]
     },
     "execution_count": 19,
     "metadata": {},
     "output_type": "execute_result"
    }
   ],
   "source": [
    "# % null value in each column\n",
    "round(df.isnull().sum() / df.shape[0] * 100.00,2)"
   ]
  },
  {
   "cell_type": "markdown",
   "id": "65e8a2a7-ac15-4f5f-b16b-886a8e3437ee",
   "metadata": {
    "tags": []
   },
   "source": [
    "## Creating Bins"
   ]
  },
  {
   "cell_type": "markdown",
   "id": "93ed67cb-df41-4660-89d1-c943253a3121",
   "metadata": {},
   "source": [
    "### Bins for loan_amnt"
   ]
  },
  {
   "cell_type": "code",
   "execution_count": 20,
   "id": "53c15464-02e8-4603-bdc5-d048e8d31a06",
   "metadata": {},
   "outputs": [],
   "source": [
    "def Loanamtcat(row):\n",
    "    if row.loan_amnt >= 30000:\n",
    "        return '>=30K'\n",
    "    elif row.loan_amnt <30000 and row.loan_amnt >= 20000:\n",
    "        return '<30k - >=20k'\n",
    "    elif row.loan_amnt <20000 and row.loan_amnt >= 10000:\n",
    "        return '<20k - >=10k'\n",
    "    elif row.loan_amnt <10000 and row.loan_amnt >= 5000:\n",
    "        return '<10k - >=5k'\n",
    "    elif row.loan_amnt <5000 and row.loan_amnt >= 1000:\n",
    "        return '<5k - >=1k'\n",
    "    else:\n",
    "        return '<1k'"
   ]
  },
  {
   "cell_type": "code",
   "execution_count": 21,
   "id": "c528e0e9-f1f3-44d3-83bf-0982b7f7f034",
   "metadata": {
    "tags": []
   },
   "outputs": [],
   "source": [
    "df['Loanamtcat'] = df.apply(Loanamtcat, axis='columns')"
   ]
  },
  {
   "cell_type": "markdown",
   "id": "64d9dc51-035d-45b7-9f75-80028e98cca0",
   "metadata": {},
   "source": [
    "### Bins for Intrest Rate"
   ]
  },
  {
   "cell_type": "code",
   "execution_count": 22,
   "id": "d184910f-ddf1-45ad-ae92-4d2a88fe36cb",
   "metadata": {},
   "outputs": [],
   "source": [
    "def intratecat(row):\n",
    "    if row.int_rate >= 30:\n",
    "        return '>=30'\n",
    "    elif row.int_rate <30 and row.int_rate >= 20:\n",
    "        return '<30 - >=20'\n",
    "    elif row.int_rate <20 and row.int_rate >= 10:\n",
    "        return '<20 - >=10'\n",
    "    elif row.int_rate <10 and row.int_rate >= 5:\n",
    "        return '<10 - >=5'\n",
    "    else:\n",
    "        return '<5'"
   ]
  },
  {
   "cell_type": "code",
   "execution_count": 23,
   "id": "fb1570cd-b269-43aa-961f-89fdf81c0de7",
   "metadata": {},
   "outputs": [],
   "source": [
    "df['Intratecat'] = df.apply(intratecat, axis='columns')"
   ]
  },
  {
   "cell_type": "markdown",
   "id": "aca5975d-b622-4743-8708-816799b4ac2f",
   "metadata": {},
   "source": [
    "### Bins for DTI"
   ]
  },
  {
   "cell_type": "code",
   "execution_count": 76,
   "id": "17e6dfd6-2d84-48c9-8d72-025246d67f95",
   "metadata": {},
   "outputs": [],
   "source": [
    "def dticat(row):\n",
    "    if row.dti >= 50:\n",
    "        return '>=50'\n",
    "    elif row.dti <50 and row.dti >= 40:\n",
    "        return '<50 - >=40'\n",
    "    elif row.dti <40 and row.dti >= 30:\n",
    "        return '<40 - >=30'\n",
    "    elif row.dti <30 and row.dti >= 20:\n",
    "        return '<30 - >=20'\n",
    "    elif row.dti <20 and row.dti >= 10:\n",
    "        return '<20 - >=10'\n",
    "    elif row.dti <10 and row.dti >= 5:\n",
    "        return '<10 - >=5'\n",
    "    else:\n",
    "        return '<5'"
   ]
  },
  {
   "cell_type": "code",
   "execution_count": 78,
   "id": "69ed5718-c7c4-4f4f-a132-b583988dd330",
   "metadata": {},
   "outputs": [],
   "source": [
    "df['dticat'] = df.apply(dticat, axis='columns')"
   ]
  },
  {
   "cell_type": "markdown",
   "id": "5d26897a-8e37-47c9-8b7d-2a1cff9aa4d0",
   "metadata": {},
   "source": [
    "### Bins for Anual Income"
   ]
  },
  {
   "cell_type": "code",
   "execution_count": 24,
   "id": "81dca205-bbcc-45b9-9082-b5fd1f4ce254",
   "metadata": {},
   "outputs": [],
   "source": [
    "def Anincomecat(row):\n",
    "    if row.annual_inc >= 1000000:\n",
    "        return '>=1M'\n",
    "    elif row.annual_inc <1000000 and row.annual_inc >= 500000:\n",
    "        return '<1M - >=500k'\n",
    "    elif row.annual_inc <500000 and row.annual_inc >= 100000:\n",
    "        return '<500k - >=100k'\n",
    "    elif row.annual_inc <100000 and row.annual_inc >= 50000:\n",
    "        return '<100k - >=50k'\n",
    "    elif row.annual_inc <50000 and row.annual_inc >= 10000:\n",
    "        return '<50k - >=10k'\n",
    "    elif row.annual_inc <10000 and row.annual_inc >= 5000:\n",
    "        return '<10k - >=5k'\n",
    "    elif row.annual_inc <5000 and row.annual_inc >= 1000:\n",
    "        return '<5k - >=1k'\n",
    "    else:\n",
    "        return '<1k'"
   ]
  },
  {
   "cell_type": "code",
   "execution_count": 25,
   "id": "18c5d53f-6800-4a86-959d-c386ab811d88",
   "metadata": {},
   "outputs": [],
   "source": [
    "df['Anincomecat'] = df.apply(Anincomecat, axis='columns')"
   ]
  },
  {
   "cell_type": "markdown",
   "id": "d79203d2-3acf-4da0-ad6b-7473c0e0e818",
   "metadata": {},
   "source": [
    "### Bins for Open Account"
   ]
  },
  {
   "cell_type": "code",
   "execution_count": 26,
   "id": "d8ac4ce2-1749-419f-8598-7e23ba1f6ef2",
   "metadata": {},
   "outputs": [],
   "source": [
    "def openacccat(row):\n",
    "    if row.open_acc >= 80:\n",
    "        return '>=80'\n",
    "    elif row.open_acc <70 and row.open_acc >= 60:\n",
    "        return '<70 - >=60'\n",
    "    elif row.open_acc <60 and row.open_acc >= 50:\n",
    "        return '<60 - >=50'\n",
    "    elif row.open_acc <50 and row.open_acc >= 40:\n",
    "        return '<50 - >=40'\n",
    "    elif row.open_acc <40 and row.open_acc >= 30:\n",
    "        return '<40 - >=30'\n",
    "    elif row.open_acc <30 and row.open_acc >= 20:\n",
    "        return '<30 - >=20'\n",
    "    elif row.open_acc <20 and row.open_acc >= 10:\n",
    "        return '<20 - >=10'\n",
    "    else:\n",
    "        return '<10'"
   ]
  },
  {
   "cell_type": "code",
   "execution_count": 27,
   "id": "082611ac-5e5e-40b4-af33-9dc6b7cb6a1b",
   "metadata": {},
   "outputs": [],
   "source": [
    "df['openacccat'] = df.apply(openacccat, axis='columns')"
   ]
  },
  {
   "cell_type": "markdown",
   "id": "5833d21c-f64a-4fbe-a4ff-70ba67db955b",
   "metadata": {},
   "source": [
    "### Bins for Revolving Ballance"
   ]
  },
  {
   "cell_type": "code",
   "execution_count": 28,
   "id": "f9c94f54-2783-4376-8bb4-1bd5d1da1914",
   "metadata": {},
   "outputs": [],
   "source": [
    "def revobalcat(row):\n",
    "    if row.revol_bal >= 1000000:\n",
    "        return '>=1M'\n",
    "    elif row.revol_bal <1000000 and row.revol_bal >= 500000:\n",
    "        return '<1M - >=500k'\n",
    "    elif row.revol_bal <500000 and row.revol_bal >= 100000:\n",
    "        return '<500k - >=100k'\n",
    "    elif row.revol_bal <100000 and row.revol_bal >= 50000:\n",
    "        return '<100k - >=50k'\n",
    "    elif row.revol_bal <50000 and row.revol_bal >= 10000:\n",
    "        return '<50k - >=10k'\n",
    "    elif row.revol_bal <10000 and row.revol_bal >= 5000:\n",
    "        return '<10k - >=5k'\n",
    "    elif row.revol_bal <5000 and row.revol_bal >= 1000:\n",
    "        return '<5k - >=1k'\n",
    "    else:\n",
    "        return '<1k'"
   ]
  },
  {
   "cell_type": "code",
   "execution_count": 29,
   "id": "958bc307-29b6-41bf-9410-02e452488e8d",
   "metadata": {},
   "outputs": [],
   "source": [
    "df['revobalcat'] = df.apply(revobalcat, axis='columns')"
   ]
  },
  {
   "cell_type": "markdown",
   "id": "3d87e459-eae8-4c49-b014-023dc676a017",
   "metadata": {},
   "source": [
    "### Bins for Revolving Utilities?"
   ]
  },
  {
   "cell_type": "code",
   "execution_count": 30,
   "id": "f6eac3f7-eea1-47d9-aaf0-37763b2ebe56",
   "metadata": {},
   "outputs": [],
   "source": [
    "def Revolvutilcat(row):\n",
    "    if row.revol_util >= 500:\n",
    "        return '>=500'\n",
    "    elif row.revol_util <500 and row.revol_util >= 300:\n",
    "        return '<500 - >=300'\n",
    "    elif row.revol_util <300 and row.revol_util >= 100:\n",
    "        return '<300 - >=100'\n",
    "    elif row.revol_util <100 and row.revol_util >= 50:\n",
    "        return '<100 - >=50'\n",
    "    else:\n",
    "        return '<50'"
   ]
  },
  {
   "cell_type": "code",
   "execution_count": 31,
   "id": "3d95d5f0-4153-4f61-8a36-d24013a784ff",
   "metadata": {},
   "outputs": [],
   "source": [
    "df['Revolvutilcat'] = df.apply(Revolvutilcat, axis='columns')"
   ]
  },
  {
   "cell_type": "markdown",
   "id": "90fedaf2-dc78-4b59-baf1-02eb1452ec0b",
   "metadata": {},
   "source": [
    "### Bins for Total Accounts"
   ]
  },
  {
   "cell_type": "code",
   "execution_count": 32,
   "id": "28d4a472-1071-420d-80f8-c9bc6104e9cb",
   "metadata": {},
   "outputs": [],
   "source": [
    "def Totalacccat(row):\n",
    "    if row.total_acc >= 100:\n",
    "        return '>=100'\n",
    "    elif row.total_acc <100 and row.total_acc >= 50:\n",
    "        return '<100 - >=50'\n",
    "    elif row.total_acc <50 and row.total_acc >= 40:\n",
    "        return '<50 - >=40'\n",
    "    elif row.total_acc <40 and row.total_acc >= 30:\n",
    "        return '<40 - >=30'\n",
    "    elif row.total_acc <30 and row.total_acc >= 20:\n",
    "        return '<30 - >=20'\n",
    "    elif row.total_acc <20 and row.total_acc >= 10:\n",
    "        return '<20 - >=10'\n",
    "    else:\n",
    "        return '<10'"
   ]
  },
  {
   "cell_type": "code",
   "execution_count": 33,
   "id": "e7b01ce2-c484-40ea-a513-193363e83fd3",
   "metadata": {},
   "outputs": [],
   "source": [
    "df['Totalacccat'] = df.apply(Totalacccat, axis='columns')"
   ]
  },
  {
   "cell_type": "markdown",
   "id": "9deb08ab-7223-4c33-8366-07a88985e0b1",
   "metadata": {
    "tags": []
   },
   "source": [
    "### Bins for Mortage Accounts"
   ]
  },
  {
   "cell_type": "code",
   "execution_count": 34,
   "id": "4988d896-2971-453e-8506-5609633ea2b2",
   "metadata": {},
   "outputs": [],
   "source": [
    "def mortacccat(row):\n",
    "    if row.mort_acc >= 30:\n",
    "        return '>=30'\n",
    "    elif row.mort_acc <30 and row.mort_acc >= 20:\n",
    "        return '<30 - >=20'\n",
    "    elif row.mort_acc <20 and row.mort_acc >= 10:\n",
    "        return '<20 - >=10'\n",
    "    elif row.mort_acc <10 and row.mort_acc >= 5:\n",
    "        return '<10 - >=5'\n",
    "    else:\n",
    "        return '<5'"
   ]
  },
  {
   "cell_type": "code",
   "execution_count": 35,
   "id": "50eb93b6-2c0a-4eb7-8038-d453b52bd114",
   "metadata": {},
   "outputs": [],
   "source": [
    "df['mortacccat'] = df.apply(mortacccat, axis='columns')"
   ]
  },
  {
   "cell_type": "markdown",
   "id": "30e0ed00-7255-4a9e-8df8-eff66aa09e0f",
   "metadata": {},
   "source": [
    "### Bins for Public Rec Bankruptcies "
   ]
  },
  {
   "cell_type": "code",
   "execution_count": 36,
   "id": "12428901-03fa-4e5c-a0d2-9cc3fbdc3014",
   "metadata": {
    "tags": []
   },
   "outputs": [],
   "source": [
    "def pubrecbankruptccat(row):\n",
    "    if row.pub_rec_bankruptcies >= 5:\n",
    "        return '>=5'\n",
    "    elif row.pub_rec_bankruptcies <5 and row.pub_rec_bankruptcies >= 4:\n",
    "        return '<5 - >=4'\n",
    "    elif row.pub_rec_bankruptcies <4 and row.pub_rec_bankruptcies >= 3:\n",
    "        return '<4 - >=3'\n",
    "    elif row.pub_rec_bankruptcies <3 and row.pub_rec_bankruptcies >= 2:\n",
    "        return '<3 - >=2'\n",
    "    else:\n",
    "        return '<2'"
   ]
  },
  {
   "cell_type": "code",
   "execution_count": 37,
   "id": "dbf44850-7bbc-4699-9778-bb3bf0476f56",
   "metadata": {},
   "outputs": [],
   "source": [
    "df['pubrecbankruptccat'] = df.apply(pubrecbankruptccat, axis='columns')"
   ]
  },
  {
   "cell_type": "markdown",
   "id": "5ce60d76-03fe-4b3c-be5d-8cbbdcb166ac",
   "metadata": {},
   "source": [
    "# Analysis"
   ]
  },
  {
   "cell_type": "code",
   "execution_count": 38,
   "id": "a3769030-7500-45cf-8d4d-2b6548ac9a3a",
   "metadata": {},
   "outputs": [
    {
     "data": {
      "text/html": [
       "<div>\n",
       "<style scoped>\n",
       "    .dataframe tbody tr th:only-of-type {\n",
       "        vertical-align: middle;\n",
       "    }\n",
       "\n",
       "    .dataframe tbody tr th {\n",
       "        vertical-align: top;\n",
       "    }\n",
       "\n",
       "    .dataframe thead th {\n",
       "        text-align: right;\n",
       "    }\n",
       "</style>\n",
       "<table border=\"1\" class=\"dataframe\">\n",
       "  <thead>\n",
       "    <tr style=\"text-align: right;\">\n",
       "      <th></th>\n",
       "      <th>loan_amnt</th>\n",
       "      <th>term</th>\n",
       "      <th>int_rate</th>\n",
       "      <th>installment</th>\n",
       "      <th>grade</th>\n",
       "      <th>sub_grade</th>\n",
       "      <th>emp_title</th>\n",
       "      <th>emp_length</th>\n",
       "      <th>home_ownership</th>\n",
       "      <th>annual_inc</th>\n",
       "      <th>verification_status</th>\n",
       "      <th>issue_d</th>\n",
       "      <th>loan_status</th>\n",
       "      <th>purpose</th>\n",
       "      <th>title</th>\n",
       "      <th>dti</th>\n",
       "      <th>earliest_cr_line</th>\n",
       "      <th>open_acc</th>\n",
       "      <th>pub_rec</th>\n",
       "      <th>revol_bal</th>\n",
       "      <th>revol_util</th>\n",
       "      <th>total_acc</th>\n",
       "      <th>initial_list_status</th>\n",
       "      <th>application_type</th>\n",
       "      <th>mort_acc</th>\n",
       "      <th>pub_rec_bankruptcies</th>\n",
       "      <th>address</th>\n",
       "      <th>Loanamtcat</th>\n",
       "      <th>Intratecat</th>\n",
       "      <th>Anincomecat</th>\n",
       "      <th>openacccat</th>\n",
       "      <th>revobalcat</th>\n",
       "      <th>Revolvutilcat</th>\n",
       "      <th>Totalacccat</th>\n",
       "      <th>mortacccat</th>\n",
       "      <th>pubrecbankruptccat</th>\n",
       "    </tr>\n",
       "  </thead>\n",
       "  <tbody>\n",
       "    <tr>\n",
       "      <th>0</th>\n",
       "      <td>10000.0</td>\n",
       "      <td>36 months</td>\n",
       "      <td>11.44</td>\n",
       "      <td>329.48</td>\n",
       "      <td>B</td>\n",
       "      <td>B4</td>\n",
       "      <td>Marketing</td>\n",
       "      <td>10+ years</td>\n",
       "      <td>RENT</td>\n",
       "      <td>117000.0</td>\n",
       "      <td>Not Verified</td>\n",
       "      <td>Jan-2015</td>\n",
       "      <td>Fully Paid</td>\n",
       "      <td>vacation</td>\n",
       "      <td>Vacation</td>\n",
       "      <td>26.24</td>\n",
       "      <td>Jun-1990</td>\n",
       "      <td>16.0</td>\n",
       "      <td>0.0</td>\n",
       "      <td>36369.0</td>\n",
       "      <td>41.8</td>\n",
       "      <td>25.0</td>\n",
       "      <td>w</td>\n",
       "      <td>INDIVIDUAL</td>\n",
       "      <td>0.0</td>\n",
       "      <td>0.0</td>\n",
       "      <td>0174 Michelle Gateway\\r\\nMendozaberg, OK 22690</td>\n",
       "      <td>&lt;20k - &gt;=10k</td>\n",
       "      <td>&lt;20 - &gt;=10</td>\n",
       "      <td>&lt;500k - &gt;=100k</td>\n",
       "      <td>&lt;20 - &gt;=10</td>\n",
       "      <td>&lt;50k - &gt;=10k</td>\n",
       "      <td>&lt;50</td>\n",
       "      <td>&lt;30 - &gt;=20</td>\n",
       "      <td>&lt;5</td>\n",
       "      <td>&lt;2</td>\n",
       "    </tr>\n",
       "    <tr>\n",
       "      <th>1</th>\n",
       "      <td>8000.0</td>\n",
       "      <td>36 months</td>\n",
       "      <td>11.99</td>\n",
       "      <td>265.68</td>\n",
       "      <td>B</td>\n",
       "      <td>B5</td>\n",
       "      <td>Credit analyst</td>\n",
       "      <td>4 years</td>\n",
       "      <td>MORTGAGE</td>\n",
       "      <td>65000.0</td>\n",
       "      <td>Not Verified</td>\n",
       "      <td>Jan-2015</td>\n",
       "      <td>Fully Paid</td>\n",
       "      <td>debt_consolidation</td>\n",
       "      <td>Debt consolidation</td>\n",
       "      <td>22.05</td>\n",
       "      <td>Jul-2004</td>\n",
       "      <td>17.0</td>\n",
       "      <td>0.0</td>\n",
       "      <td>20131.0</td>\n",
       "      <td>53.3</td>\n",
       "      <td>27.0</td>\n",
       "      <td>f</td>\n",
       "      <td>INDIVIDUAL</td>\n",
       "      <td>3.0</td>\n",
       "      <td>0.0</td>\n",
       "      <td>1076 Carney Fort Apt. 347\\r\\nLoganmouth, SD 05113</td>\n",
       "      <td>&lt;10k - &gt;=5k</td>\n",
       "      <td>&lt;20 - &gt;=10</td>\n",
       "      <td>&lt;100k - &gt;=50k</td>\n",
       "      <td>&lt;20 - &gt;=10</td>\n",
       "      <td>&lt;50k - &gt;=10k</td>\n",
       "      <td>&lt;100 - &gt;=50</td>\n",
       "      <td>&lt;30 - &gt;=20</td>\n",
       "      <td>&lt;5</td>\n",
       "      <td>&lt;2</td>\n",
       "    </tr>\n",
       "    <tr>\n",
       "      <th>2</th>\n",
       "      <td>15600.0</td>\n",
       "      <td>36 months</td>\n",
       "      <td>10.49</td>\n",
       "      <td>506.97</td>\n",
       "      <td>B</td>\n",
       "      <td>B3</td>\n",
       "      <td>Statistician</td>\n",
       "      <td>&lt; 1 year</td>\n",
       "      <td>RENT</td>\n",
       "      <td>43057.0</td>\n",
       "      <td>Source Verified</td>\n",
       "      <td>Jan-2015</td>\n",
       "      <td>Fully Paid</td>\n",
       "      <td>credit_card</td>\n",
       "      <td>Credit card refinancing</td>\n",
       "      <td>12.79</td>\n",
       "      <td>Aug-2007</td>\n",
       "      <td>13.0</td>\n",
       "      <td>0.0</td>\n",
       "      <td>11987.0</td>\n",
       "      <td>92.2</td>\n",
       "      <td>26.0</td>\n",
       "      <td>f</td>\n",
       "      <td>INDIVIDUAL</td>\n",
       "      <td>0.0</td>\n",
       "      <td>0.0</td>\n",
       "      <td>87025 Mark Dale Apt. 269\\r\\nNew Sabrina, WV 05113</td>\n",
       "      <td>&lt;20k - &gt;=10k</td>\n",
       "      <td>&lt;20 - &gt;=10</td>\n",
       "      <td>&lt;50k - &gt;=10k</td>\n",
       "      <td>&lt;20 - &gt;=10</td>\n",
       "      <td>&lt;50k - &gt;=10k</td>\n",
       "      <td>&lt;100 - &gt;=50</td>\n",
       "      <td>&lt;30 - &gt;=20</td>\n",
       "      <td>&lt;5</td>\n",
       "      <td>&lt;2</td>\n",
       "    </tr>\n",
       "    <tr>\n",
       "      <th>3</th>\n",
       "      <td>7200.0</td>\n",
       "      <td>36 months</td>\n",
       "      <td>6.49</td>\n",
       "      <td>220.65</td>\n",
       "      <td>A</td>\n",
       "      <td>A2</td>\n",
       "      <td>Client Advocate</td>\n",
       "      <td>6 years</td>\n",
       "      <td>RENT</td>\n",
       "      <td>54000.0</td>\n",
       "      <td>Not Verified</td>\n",
       "      <td>Nov-2014</td>\n",
       "      <td>Fully Paid</td>\n",
       "      <td>credit_card</td>\n",
       "      <td>Credit card refinancing</td>\n",
       "      <td>2.60</td>\n",
       "      <td>Sep-2006</td>\n",
       "      <td>6.0</td>\n",
       "      <td>0.0</td>\n",
       "      <td>5472.0</td>\n",
       "      <td>21.5</td>\n",
       "      <td>13.0</td>\n",
       "      <td>f</td>\n",
       "      <td>INDIVIDUAL</td>\n",
       "      <td>0.0</td>\n",
       "      <td>0.0</td>\n",
       "      <td>823 Reid Ford\\r\\nDelacruzside, MA 00813</td>\n",
       "      <td>&lt;10k - &gt;=5k</td>\n",
       "      <td>&lt;10 - &gt;=5</td>\n",
       "      <td>&lt;100k - &gt;=50k</td>\n",
       "      <td>&lt;10</td>\n",
       "      <td>&lt;10k - &gt;=5k</td>\n",
       "      <td>&lt;50</td>\n",
       "      <td>&lt;20 - &gt;=10</td>\n",
       "      <td>&lt;5</td>\n",
       "      <td>&lt;2</td>\n",
       "    </tr>\n",
       "    <tr>\n",
       "      <th>4</th>\n",
       "      <td>24375.0</td>\n",
       "      <td>60 months</td>\n",
       "      <td>17.27</td>\n",
       "      <td>609.33</td>\n",
       "      <td>C</td>\n",
       "      <td>C5</td>\n",
       "      <td>Destiny Management Inc.</td>\n",
       "      <td>9 years</td>\n",
       "      <td>MORTGAGE</td>\n",
       "      <td>55000.0</td>\n",
       "      <td>Verified</td>\n",
       "      <td>Apr-2013</td>\n",
       "      <td>Charged Off</td>\n",
       "      <td>credit_card</td>\n",
       "      <td>Credit Card Refinance</td>\n",
       "      <td>33.95</td>\n",
       "      <td>Mar-1999</td>\n",
       "      <td>13.0</td>\n",
       "      <td>0.0</td>\n",
       "      <td>24584.0</td>\n",
       "      <td>69.8</td>\n",
       "      <td>43.0</td>\n",
       "      <td>f</td>\n",
       "      <td>INDIVIDUAL</td>\n",
       "      <td>1.0</td>\n",
       "      <td>0.0</td>\n",
       "      <td>679 Luna Roads\\r\\nGreggshire, VA 11650</td>\n",
       "      <td>&lt;30k - &gt;=20k</td>\n",
       "      <td>&lt;20 - &gt;=10</td>\n",
       "      <td>&lt;100k - &gt;=50k</td>\n",
       "      <td>&lt;20 - &gt;=10</td>\n",
       "      <td>&lt;50k - &gt;=10k</td>\n",
       "      <td>&lt;100 - &gt;=50</td>\n",
       "      <td>&lt;50 - &gt;=40</td>\n",
       "      <td>&lt;5</td>\n",
       "      <td>&lt;2</td>\n",
       "    </tr>\n",
       "  </tbody>\n",
       "</table>\n",
       "</div>"
      ],
      "text/plain": [
       "   loan_amnt        term  int_rate  installment grade sub_grade  \\\n",
       "0    10000.0   36 months     11.44       329.48     B        B4   \n",
       "1     8000.0   36 months     11.99       265.68     B        B5   \n",
       "2    15600.0   36 months     10.49       506.97     B        B3   \n",
       "3     7200.0   36 months      6.49       220.65     A        A2   \n",
       "4    24375.0   60 months     17.27       609.33     C        C5   \n",
       "\n",
       "                 emp_title emp_length home_ownership  annual_inc  \\\n",
       "0                Marketing  10+ years           RENT    117000.0   \n",
       "1          Credit analyst     4 years       MORTGAGE     65000.0   \n",
       "2             Statistician   < 1 year           RENT     43057.0   \n",
       "3          Client Advocate    6 years           RENT     54000.0   \n",
       "4  Destiny Management Inc.    9 years       MORTGAGE     55000.0   \n",
       "\n",
       "  verification_status   issue_d  loan_status             purpose  \\\n",
       "0        Not Verified  Jan-2015   Fully Paid            vacation   \n",
       "1        Not Verified  Jan-2015   Fully Paid  debt_consolidation   \n",
       "2     Source Verified  Jan-2015   Fully Paid         credit_card   \n",
       "3        Not Verified  Nov-2014   Fully Paid         credit_card   \n",
       "4            Verified  Apr-2013  Charged Off         credit_card   \n",
       "\n",
       "                     title    dti earliest_cr_line  open_acc  pub_rec  \\\n",
       "0                 Vacation  26.24         Jun-1990      16.0      0.0   \n",
       "1       Debt consolidation  22.05         Jul-2004      17.0      0.0   \n",
       "2  Credit card refinancing  12.79         Aug-2007      13.0      0.0   \n",
       "3  Credit card refinancing   2.60         Sep-2006       6.0      0.0   \n",
       "4    Credit Card Refinance  33.95         Mar-1999      13.0      0.0   \n",
       "\n",
       "   revol_bal  revol_util  total_acc initial_list_status application_type  \\\n",
       "0    36369.0        41.8       25.0                   w       INDIVIDUAL   \n",
       "1    20131.0        53.3       27.0                   f       INDIVIDUAL   \n",
       "2    11987.0        92.2       26.0                   f       INDIVIDUAL   \n",
       "3     5472.0        21.5       13.0                   f       INDIVIDUAL   \n",
       "4    24584.0        69.8       43.0                   f       INDIVIDUAL   \n",
       "\n",
       "   mort_acc  pub_rec_bankruptcies  \\\n",
       "0       0.0                   0.0   \n",
       "1       3.0                   0.0   \n",
       "2       0.0                   0.0   \n",
       "3       0.0                   0.0   \n",
       "4       1.0                   0.0   \n",
       "\n",
       "                                             address    Loanamtcat  \\\n",
       "0     0174 Michelle Gateway\\r\\nMendozaberg, OK 22690  <20k - >=10k   \n",
       "1  1076 Carney Fort Apt. 347\\r\\nLoganmouth, SD 05113   <10k - >=5k   \n",
       "2  87025 Mark Dale Apt. 269\\r\\nNew Sabrina, WV 05113  <20k - >=10k   \n",
       "3            823 Reid Ford\\r\\nDelacruzside, MA 00813   <10k - >=5k   \n",
       "4             679 Luna Roads\\r\\nGreggshire, VA 11650  <30k - >=20k   \n",
       "\n",
       "   Intratecat     Anincomecat  openacccat    revobalcat Revolvutilcat  \\\n",
       "0  <20 - >=10  <500k - >=100k  <20 - >=10  <50k - >=10k           <50   \n",
       "1  <20 - >=10   <100k - >=50k  <20 - >=10  <50k - >=10k   <100 - >=50   \n",
       "2  <20 - >=10    <50k - >=10k  <20 - >=10  <50k - >=10k   <100 - >=50   \n",
       "3   <10 - >=5   <100k - >=50k         <10   <10k - >=5k           <50   \n",
       "4  <20 - >=10   <100k - >=50k  <20 - >=10  <50k - >=10k   <100 - >=50   \n",
       "\n",
       "  Totalacccat mortacccat pubrecbankruptccat  \n",
       "0  <30 - >=20         <5                 <2  \n",
       "1  <30 - >=20         <5                 <2  \n",
       "2  <30 - >=20         <5                 <2  \n",
       "3  <20 - >=10         <5                 <2  \n",
       "4  <50 - >=40         <5                 <2  "
      ]
     },
     "execution_count": 38,
     "metadata": {},
     "output_type": "execute_result"
    }
   ],
   "source": [
    "df.head()"
   ]
  },
  {
   "cell_type": "markdown",
   "id": "8616c3bc-eb03-4ae1-bbcd-9212ed07eabd",
   "metadata": {},
   "source": [
    "### Loan Amount in %"
   ]
  },
  {
   "cell_type": "code",
   "execution_count": 39,
   "id": "4d4f8b2f-8370-4e77-a36c-c7eadd23b25c",
   "metadata": {
    "tags": []
   },
   "outputs": [
    {
     "data": {
      "text/plain": [
       "<20k - >=10k    40.306037\n",
       "<10k - >=5k     24.664041\n",
       "<30k - >=20k    18.272858\n",
       "<5k - >=1k       9.843194\n",
       ">=30K            6.911345\n",
       "<1k              0.002525\n",
       "Name: Loanamtcat, dtype: float64"
      ]
     },
     "execution_count": 39,
     "metadata": {},
     "output_type": "execute_result"
    }
   ],
   "source": [
    "df.Loanamtcat.value_counts(normalize=True)*100"
   ]
  },
  {
   "cell_type": "markdown",
   "id": "2ab50544-911b-4341-9e45-8e79882bf05c",
   "metadata": {},
   "source": [
    "### Bankruptcies Amount in %"
   ]
  },
  {
   "cell_type": "code",
   "execution_count": 40,
   "id": "90fe6a03-cbba-42a9-8133-7580a446893b",
   "metadata": {},
   "outputs": [
    {
     "data": {
      "text/plain": [
       "<2          99.412923\n",
       "<3 - >=2     0.466379\n",
       "<4 - >=3     0.088630\n",
       "<5 - >=4     0.020706\n",
       ">=5          0.011363\n",
       "Name: pubrecbankruptccat, dtype: float64"
      ]
     },
     "execution_count": 40,
     "metadata": {},
     "output_type": "execute_result"
    }
   ],
   "source": [
    "df.pubrecbankruptccat.value_counts(normalize=True)*100"
   ]
  },
  {
   "cell_type": "markdown",
   "id": "65779fa4-b480-4d33-9a34-493136f737cb",
   "metadata": {},
   "source": [
    "### Paid vs Charged Off"
   ]
  },
  {
   "cell_type": "code",
   "execution_count": 82,
   "id": "89db4c3c-d107-4b19-a9b7-f35de9ed644c",
   "metadata": {},
   "outputs": [
    {
     "data": {
      "text/plain": [
       "(array([0, 1]), [Text(0, 0, 'Fully Paid'), Text(1, 0, 'Charged Off')])"
      ]
     },
     "execution_count": 82,
     "metadata": {},
     "output_type": "execute_result"
    },
    {
     "data": {
      "image/png": "[encoded data removed]",
      "text/plain": [
       "<Figure size 216x360 with 1 Axes>"
      ]
     },
     "metadata": {
      "needs_background": "light"
     },
     "output_type": "display_data"
    }
   ],
   "source": [
    "sns.catplot(x=\"loan_status\", y=\"loan_amnt\", \n",
    "                data=df, saturation=.5,\n",
    "                kind=\"bar\",aspect=.6)\n",
    "\n",
    "plt.title('Loan status  vs Loan Amount')\n",
    "plt.xlabel('Loan Status')\n",
    "plt.ylabel('Loan Amount')\n",
    "plt.xticks(rotation=90)"
   ]
  },
  {
   "cell_type": "markdown",
   "id": "47ee4d1f-6e21-4b93-ab90-96011da21fb0",
   "metadata": {
    "tags": []
   },
   "source": [
    "### Home Ownership"
   ]
  },
  {
   "cell_type": "code",
   "execution_count": 43,
   "id": "08ccc0f7-8176-4b0e-85e7-27fa65784297",
   "metadata": {},
   "outputs": [
    {
     "data": {
      "text/plain": [
       "(array([0, 1, 2, 3, 4, 5]),\n",
       " [Text(0, 0, 'RENT'),\n",
       "  Text(1, 0, 'MORTGAGE'),\n",
       "  Text(2, 0, 'OWN'),\n",
       "  Text(3, 0, 'OTHER'),\n",
       "  Text(4, 0, 'NONE'),\n",
       "  Text(5, 0, 'ANY')])"
      ]
     },
     "execution_count": 43,
     "metadata": {},
     "output_type": "execute_result"
    },
    {
     "data": {
      "text/plain": [
       "<Figure size 1080x576 with 0 Axes>"
      ]
     },
     "metadata": {},
     "output_type": "display_data"
    },
    {
     "data": {
      "image/png": "[encoded data removed]",
      "text/plain": [
       "<Figure size 216x360 with 1 Axes>"
      ]
     },
     "metadata": {
      "needs_background": "light"
     },
     "output_type": "display_data"
    }
   ],
   "source": [
    "plt.figure(figsize=(15,8))\n",
    "sns.catplot(x=\"home_ownership\", y=\"loan_amnt\", \n",
    "                data=df, saturation=.5,\n",
    "                kind=\"bar\",aspect=.6)\n",
    "\n",
    "plt.title('Home Ownership vs Loan Amount')\n",
    "plt.xlabel('Type')\n",
    "plt.ylabel('Loan Amount')\n",
    "plt.xticks(rotation=90)\n",
    "\n"
   ]
  },
  {
   "cell_type": "code",
   "execution_count": 44,
   "id": "2e0c85a4-0ac5-4b1b-a09e-564c64918716",
   "metadata": {},
   "outputs": [
    {
     "data": {
      "text/plain": [
       "(array([0, 1, 2, 3, 4, 5]),\n",
       " [Text(0, 0, 'RENT'),\n",
       "  Text(1, 0, 'MORTGAGE'),\n",
       "  Text(2, 0, 'OWN'),\n",
       "  Text(3, 0, 'OTHER'),\n",
       "  Text(4, 0, 'NONE'),\n",
       "  Text(5, 0, 'ANY')])"
      ]
     },
     "execution_count": 44,
     "metadata": {},
     "output_type": "execute_result"
    },
    {
     "data": {
      "text/plain": [
       "<Figure size 1080x576 with 0 Axes>"
      ]
     },
     "metadata": {},
     "output_type": "display_data"
    },
    {
     "data": {
      "image/png": "[encoded data removed]",
      "text/plain": [
       "<Figure size 216x360 with 1 Axes>"
      ]
     },
     "metadata": {
      "needs_background": "light"
     },
     "output_type": "display_data"
    }
   ],
   "source": [
    "plt.figure(figsize=(15,8))\n",
    "sns.catplot(x=\"home_ownership\", y=\"pub_rec_bankruptcies\", \n",
    "                data=df, saturation=.5,\n",
    "                kind=\"bar\",aspect=.6)\n",
    "\n",
    "plt.title('Home Ownership vs Bankruptcies')\n",
    "plt.xlabel('Type')\n",
    "plt.ylabel('Bankruptcies')\n",
    "plt.xticks(rotation=90)\n"
   ]
  },
  {
   "cell_type": "markdown",
   "id": "90dba418-36f8-42f7-a283-d27fab9973aa",
   "metadata": {},
   "source": [
    "### Anual Income"
   ]
  },
  {
   "cell_type": "code",
   "execution_count": 45,
   "id": "7dfdc131-d81e-4b0d-9308-1f6648e5beb6",
   "metadata": {},
   "outputs": [
    {
     "data": {
      "text/plain": [
       "(array([0, 1, 2, 3, 4, 5, 6, 7]),\n",
       " [Text(0, 0, '<500k - >=100k'),\n",
       "  Text(1, 0, '<100k - >=50k'),\n",
       "  Text(2, 0, '<50k - >=10k'),\n",
       "  Text(3, 0, '<1M - >=500k'),\n",
       "  Text(4, 0, '>=1M'),\n",
       "  Text(5, 0, '<5k - >=1k'),\n",
       "  Text(6, 0, '<10k - >=5k'),\n",
       "  Text(7, 0, '<1k')])"
      ]
     },
     "execution_count": 45,
     "metadata": {},
     "output_type": "execute_result"
    },
    {
     "data": {
      "image/png": "[encoded data removed]",
      "text/plain": [
       "<Figure size 216x360 with 1 Axes>"
      ]
     },
     "metadata": {
      "needs_background": "light"
     },
     "output_type": "display_data"
    }
   ],
   "source": [
    "sns.catplot(x=\"Anincomecat\", y=\"loan_amnt\", \n",
    "                data=df, saturation=.5,\n",
    "                kind=\"bar\",aspect=.6)\n",
    "\n",
    "plt.title('Annual Income vs Loan Amount')\n",
    "plt.xlabel('Annual Income')\n",
    "plt.ylabel('Loan Amount')\n",
    "plt.xticks(rotation=90)"
   ]
  },
  {
   "cell_type": "code",
   "execution_count": 46,
   "id": "8594da10-68bf-4ded-95ff-95d725c44e4f",
   "metadata": {},
   "outputs": [
    {
     "data": {
      "text/plain": [
       "(array([0, 1, 2, 3, 4, 5, 6, 7]),\n",
       " [Text(0, 0, '<500k - >=100k'),\n",
       "  Text(1, 0, '<100k - >=50k'),\n",
       "  Text(2, 0, '<50k - >=10k'),\n",
       "  Text(3, 0, '<1M - >=500k'),\n",
       "  Text(4, 0, '>=1M'),\n",
       "  Text(5, 0, '<5k - >=1k'),\n",
       "  Text(6, 0, '<10k - >=5k'),\n",
       "  Text(7, 0, '<1k')])"
      ]
     },
     "execution_count": 46,
     "metadata": {},
     "output_type": "execute_result"
    },
    {
     "data": {
      "image/png": "[encoded data removed]",
      "text/plain": [
       "<Figure size 216x360 with 1 Axes>"
      ]
     },
     "metadata": {
      "needs_background": "light"
     },
     "output_type": "display_data"
    }
   ],
   "source": [
    "sns.catplot(x=\"Anincomecat\", y=\"pub_rec_bankruptcies\", \n",
    "                data=df, saturation=.5,\n",
    "                kind=\"bar\",aspect=.6)\n",
    "\n",
    "plt.title('Annual Income vs Bankruptcies')\n",
    "plt.xlabel('Annual Income')\n",
    "plt.ylabel('Bankruptcies')\n",
    "\n",
    "plt.xticks(rotation=90)"
   ]
  },
  {
   "cell_type": "markdown",
   "id": "c0bb7855-71e4-4f35-8ba9-df2ed512da11",
   "metadata": {},
   "source": [
    "### Purpose for Takeing out Loans"
   ]
  },
  {
   "cell_type": "code",
   "execution_count": 47,
   "id": "0748aff8-31da-4fd4-be8a-aa9dbe6077e3",
   "metadata": {},
   "outputs": [
    {
     "data": {
      "text/plain": [
       "(array([ 0,  1,  2,  3,  4,  5,  6,  7,  8,  9, 10, 11, 12, 13]),\n",
       " [Text(0, 0, 'vacation'),\n",
       "  Text(1, 0, 'debt_consolidation'),\n",
       "  Text(2, 0, 'credit_card'),\n",
       "  Text(3, 0, 'home_improvement'),\n",
       "  Text(4, 0, 'small_business'),\n",
       "  Text(5, 0, 'major_purchase'),\n",
       "  Text(6, 0, 'other'),\n",
       "  Text(7, 0, 'medical'),\n",
       "  Text(8, 0, 'wedding'),\n",
       "  Text(9, 0, 'car'),\n",
       "  Text(10, 0, 'moving'),\n",
       "  Text(11, 0, 'house'),\n",
       "  Text(12, 0, 'educational'),\n",
       "  Text(13, 0, 'renewable_energy')])"
      ]
     },
     "execution_count": 47,
     "metadata": {},
     "output_type": "execute_result"
    },
    {
     "data": {
      "text/plain": [
       "<Figure size 1080x576 with 0 Axes>"
      ]
     },
     "metadata": {},
     "output_type": "display_data"
    },
    {
     "data": {
      "image/png": "[encoded data removed]",
      "text/plain": [
       "<Figure size 720x360 with 1 Axes>"
      ]
     },
     "metadata": {
      "needs_background": "light"
     },
     "output_type": "display_data"
    }
   ],
   "source": [
    "\n",
    "plt.figure(figsize=(15,8))\n",
    "sns.catplot(x=\"purpose\", y=\"loan_amnt\", \n",
    "                data=df, saturation=.5,\n",
    "                kind=\"bar\",aspect=2)\n",
    "\n",
    "plt.title('Purpose vs Loan Amount')\n",
    "plt.xlabel('Purpose')\n",
    "plt.ylabel('Loan Amount')\n",
    "\n",
    "plt.xticks(rotation=90)"
   ]
  },
  {
   "cell_type": "code",
   "execution_count": 48,
   "id": "e63d0dd9-bf55-494d-8063-a26ff9885f9d",
   "metadata": {},
   "outputs": [
    {
     "data": {
      "text/plain": [
       "(array([ 0,  1,  2,  3,  4,  5,  6,  7,  8,  9, 10, 11, 12, 13]),\n",
       " [Text(0, 0, 'vacation'),\n",
       "  Text(1, 0, 'debt_consolidation'),\n",
       "  Text(2, 0, 'credit_card'),\n",
       "  Text(3, 0, 'home_improvement'),\n",
       "  Text(4, 0, 'small_business'),\n",
       "  Text(5, 0, 'major_purchase'),\n",
       "  Text(6, 0, 'other'),\n",
       "  Text(7, 0, 'medical'),\n",
       "  Text(8, 0, 'wedding'),\n",
       "  Text(9, 0, 'car'),\n",
       "  Text(10, 0, 'moving'),\n",
       "  Text(11, 0, 'house'),\n",
       "  Text(12, 0, 'educational'),\n",
       "  Text(13, 0, 'renewable_energy')])"
      ]
     },
     "execution_count": 48,
     "metadata": {},
     "output_type": "execute_result"
    },
    {
     "data": {
      "text/plain": [
       "<Figure size 1080x576 with 0 Axes>"
      ]
     },
     "metadata": {},
     "output_type": "display_data"
    },
    {
     "data": {
      "image/png": "[encoded data removed]",
      "text/plain": [
       "<Figure size 720x360 with 1 Axes>"
      ]
     },
     "metadata": {
      "needs_background": "light"
     },
     "output_type": "display_data"
    }
   ],
   "source": [
    "plt.figure(figsize=(15,8))\n",
    "sns.catplot(x=\"purpose\", y=\"pub_rec_bankruptcies\", \n",
    "                data=df, saturation=.5,\n",
    "                kind=\"bar\",aspect=2)\n",
    "\n",
    "plt.title('Purpose vs Bankruptcies')\n",
    "plt.xlabel('Purpose')\n",
    "plt.ylabel('Bankruptcies')\n",
    "plt.xticks(rotation=90)"
   ]
  },
  {
   "cell_type": "markdown",
   "id": "00a31886-3bec-4b32-9e8e-ac9f6f98ea47",
   "metadata": {},
   "source": [
    "### Application Type "
   ]
  },
  {
   "cell_type": "code",
   "execution_count": 50,
   "id": "7fcac36b-58dd-4910-bc1f-54ca76137069",
   "metadata": {},
   "outputs": [
    {
     "data": {
      "text/plain": [
       "Text(-9.075000000000003, 0.5, 'Loan Amount')"
      ]
     },
     "execution_count": 50,
     "metadata": {},
     "output_type": "execute_result"
    },
    {
     "data": {
      "text/plain": [
       "<Figure size 1080x576 with 0 Axes>"
      ]
     },
     "metadata": {},
     "output_type": "display_data"
    },
    {
     "data": {
      "image/png": "[encoded data removed]",
      "text/plain": [
       "<Figure size 720x360 with 1 Axes>"
      ]
     },
     "metadata": {
      "needs_background": "light"
     },
     "output_type": "display_data"
    }
   ],
   "source": [
    "plt.figure(figsize=(15,8))\n",
    "sns.catplot(x=\"application_type\", y=\"loan_amnt\", \n",
    "                data=df, saturation=.5,\n",
    "                kind=\"bar\",aspect=2)\n",
    "\n",
    "plt.title('Application Type vs Loan Amount')\n",
    "plt.xlabel('Application Type')\n",
    "plt.ylabel('Loan Amount')\n"
   ]
  },
  {
   "cell_type": "code",
   "execution_count": 49,
   "id": "a1fa1d37-a3c8-4d91-8fa1-e36f46901c0b",
   "metadata": {},
   "outputs": [
    {
     "data": {
      "text/plain": [
       "Text(0.42499999999999716, 0.5, 'Bankruptcies')"
      ]
     },
     "execution_count": 49,
     "metadata": {},
     "output_type": "execute_result"
    },
    {
     "data": {
      "text/plain": [
       "<Figure size 1080x576 with 0 Axes>"
      ]
     },
     "metadata": {},
     "output_type": "display_data"
    },
    {
     "data": {
      "image/png": "[encoded data removed]",
      "text/plain": [
       "<Figure size 720x360 with 1 Axes>"
      ]
     },
     "metadata": {
      "needs_background": "light"
     },
     "output_type": "display_data"
    }
   ],
   "source": [
    "plt.figure(figsize=(15,8))\n",
    "sns.catplot(x=\"application_type\", y=\"pub_rec_bankruptcies\", \n",
    "                data=df, saturation=.5,\n",
    "                kind=\"bar\",aspect=2)\n",
    "\n",
    "plt.title('Application Type vs Bankruptcies')\n",
    "plt.xlabel('Application Type')\n",
    "plt.ylabel('Bankruptcies')\n"
   ]
  },
  {
   "cell_type": "markdown",
   "id": "588eab7a-b137-481e-b0ed-0f555af6938c",
   "metadata": {},
   "source": [
    "### Term Length"
   ]
  },
  {
   "cell_type": "code",
   "execution_count": 51,
   "id": "01fe30ca-7517-4f91-b32c-3bd2841be52f",
   "metadata": {},
   "outputs": [
    {
     "data": {
      "text/plain": [
       "Text(-9.075000000000003, 0.5, 'Loan Amount')"
      ]
     },
     "execution_count": 51,
     "metadata": {},
     "output_type": "execute_result"
    },
    {
     "data": {
      "text/plain": [
       "<Figure size 1080x576 with 0 Axes>"
      ]
     },
     "metadata": {},
     "output_type": "display_data"
    },
    {
     "data": {
      "image/png": "[encoded data removed]",
      "text/plain": [
       "<Figure size 720x360 with 1 Axes>"
      ]
     },
     "metadata": {
      "needs_background": "light"
     },
     "output_type": "display_data"
    }
   ],
   "source": [
    "plt.figure(figsize=(15,8))\n",
    "sns.catplot(x=\"term\", y=\"loan_amnt\", \n",
    "                data=df, saturation=.5,\n",
    "                kind=\"bar\",aspect=2)\n",
    "\n",
    "plt.title('Term vs Loan Amount')\n",
    "plt.xlabel('Term')\n",
    "plt.ylabel('Loan Amount')\n"
   ]
  },
  {
   "cell_type": "code",
   "execution_count": 52,
   "id": "d3dbce3d-9514-496a-b6a3-c38e190a8c73",
   "metadata": {},
   "outputs": [
    {
     "data": {
      "text/plain": [
       "Text(0.42499999999999716, 0.5, 'Bankruptcies')"
      ]
     },
     "execution_count": 52,
     "metadata": {},
     "output_type": "execute_result"
    },
    {
     "data": {
      "text/plain": [
       "<Figure size 1080x576 with 0 Axes>"
      ]
     },
     "metadata": {},
     "output_type": "display_data"
    },
    {
     "data": {
      "image/png": "[encoded data removed]",
      "text/plain": [
       "<Figure size 720x360 with 1 Axes>"
      ]
     },
     "metadata": {
      "needs_background": "light"
     },
     "output_type": "display_data"
    }
   ],
   "source": [
    "plt.figure(figsize=(15,8))\n",
    "sns.catplot(x=\"term\", y=\"pub_rec_bankruptcies\", \n",
    "                data=df, saturation=.5,\n",
    "                kind=\"bar\",aspect=2)\n",
    "\n",
    "plt.title('Term vs Bankruptcies')\n",
    "plt.xlabel('Term')\n",
    "plt.ylabel('Bankruptcies')\n"
   ]
  },
  {
   "cell_type": "markdown",
   "id": "6ff5120f-5a7f-4635-9771-2adb93d47356",
   "metadata": {},
   "source": [
    "### Verification Status"
   ]
  },
  {
   "cell_type": "code",
   "execution_count": 54,
   "id": "aafa9e3f-d1fc-4892-8bb9-bf6956d7f884",
   "metadata": {},
   "outputs": [
    {
     "data": {
      "text/plain": [
       "Text(-9.075000000000003, 0.5, 'Loan Amount')"
      ]
     },
     "execution_count": 54,
     "metadata": {},
     "output_type": "execute_result"
    },
    {
     "data": {
      "text/plain": [
       "<Figure size 1080x576 with 0 Axes>"
      ]
     },
     "metadata": {},
     "output_type": "display_data"
    },
    {
     "data": {
      "image/png": "[encoded data removed]",
      "text/plain": [
       "<Figure size 720x360 with 1 Axes>"
      ]
     },
     "metadata": {
      "needs_background": "light"
     },
     "output_type": "display_data"
    }
   ],
   "source": [
    "plt.figure(figsize=(15,8))\n",
    "sns.catplot(x=\"verification_status\", y=\"loan_amnt\", \n",
    "                data=df, saturation=.5,\n",
    "                kind=\"bar\",aspect=2)\n",
    "\n",
    "plt.title('Verification Status vs Loan Amount')\n",
    "plt.xlabel('Verification Status')\n",
    "plt.ylabel('Loan Amount')\n",
    "\n"
   ]
  },
  {
   "cell_type": "code",
   "execution_count": 53,
   "id": "5d28f248-0f46-496a-b2e4-8478d4fe1769",
   "metadata": {},
   "outputs": [
    {
     "data": {
      "text/plain": [
       "Text(0.42499999999999716, 0.5, 'Bankruptcies')"
      ]
     },
     "execution_count": 53,
     "metadata": {},
     "output_type": "execute_result"
    },
    {
     "data": {
      "text/plain": [
       "<Figure size 1080x576 with 0 Axes>"
      ]
     },
     "metadata": {},
     "output_type": "display_data"
    },
    {
     "data": {
      "image/png": "[encoded data removed]",
      "text/plain": [
       "<Figure size 720x360 with 1 Axes>"
      ]
     },
     "metadata": {
      "needs_background": "light"
     },
     "output_type": "display_data"
    }
   ],
   "source": [
    "plt.figure(figsize=(15,8))\n",
    "sns.catplot(x=\"verification_status\", y=\"pub_rec_bankruptcies\", \n",
    "                data=df, saturation=.5,\n",
    "                kind=\"bar\",aspect=2)\n",
    "\n",
    "\n",
    "plt.title('Verification Status vs Bankruptcies')\n",
    "plt.xlabel('Verification Status')\n",
    "plt.ylabel('Bankruptcies')\n"
   ]
  },
  {
   "cell_type": "markdown",
   "id": "a67c9063-3fcb-47d5-98c8-330485793eba",
   "metadata": {},
   "source": [
    "### Employment Length"
   ]
  },
  {
   "cell_type": "code",
   "execution_count": 55,
   "id": "724029a4-d9f6-4bd4-ac2e-818961e15996",
   "metadata": {},
   "outputs": [
    {
     "data": {
      "text/plain": [
       "Text(-9.075000000000003, 0.5, 'Loan Amount')"
      ]
     },
     "execution_count": 55,
     "metadata": {},
     "output_type": "execute_result"
    },
    {
     "data": {
      "text/plain": [
       "<Figure size 1080x576 with 0 Axes>"
      ]
     },
     "metadata": {},
     "output_type": "display_data"
    },
    {
     "data": {
      "image/png": "[encoded data removed]",
      "text/plain": [
       "<Figure size 720x360 with 1 Axes>"
      ]
     },
     "metadata": {
      "needs_background": "light"
     },
     "output_type": "display_data"
    }
   ],
   "source": [
    "plt.figure(figsize=(15,8))\n",
    "sns.catplot(x=\"emp_length\", y=\"loan_amnt\", \n",
    "                data=df, saturation=.5,\n",
    "                kind=\"bar\",aspect=2)\n",
    "\n",
    "plt.title('Length of Employment vs Loan Amount')\n",
    "plt.xlabel('Length of Employment')\n",
    "plt.ylabel('Loan Amount')\n"
   ]
  },
  {
   "cell_type": "code",
   "execution_count": 56,
   "id": "10a65213-a362-477f-8aac-72fbf70e046e",
   "metadata": {},
   "outputs": [
    {
     "data": {
      "text/plain": [
       "Text(0.42499999999999716, 0.5, 'Bankruptcies')"
      ]
     },
     "execution_count": 56,
     "metadata": {},
     "output_type": "execute_result"
    },
    {
     "data": {
      "text/plain": [
       "<Figure size 1080x576 with 0 Axes>"
      ]
     },
     "metadata": {},
     "output_type": "display_data"
    },
    {
     "data": {
      "image/png": "[encoded data removed]",
      "text/plain": [
       "<Figure size 720x360 with 1 Axes>"
      ]
     },
     "metadata": {
      "needs_background": "light"
     },
     "output_type": "display_data"
    }
   ],
   "source": [
    "plt.figure(figsize=(15,8))\n",
    "sns.catplot(x=\"emp_length\", y=\"pub_rec_bankruptcies\", \n",
    "                data=df, saturation=.5,\n",
    "                kind=\"bar\",aspect=2)\n",
    "\n",
    "\n",
    "plt.title('Length of Employment vs Bankruptcies')\n",
    "plt.xlabel('Length of Employment')\n",
    "plt.ylabel('Bankruptcies')\n"
   ]
  },
  {
   "cell_type": "markdown",
   "id": "c5c74dab-2406-4d60-87cb-62fa0b5230d6",
   "metadata": {},
   "source": [
    "###  Revolving Balance"
   ]
  },
  {
   "cell_type": "code",
   "execution_count": 57,
   "id": "d5fb0f9b-e75a-4618-8f30-65fbbd945e42",
   "metadata": {},
   "outputs": [
    {
     "data": {
      "text/plain": [
       "(array([0, 1, 2, 3, 4, 5, 6, 7]),\n",
       " [Text(0, 0, '<50k - >=10k'),\n",
       "  Text(1, 0, '<10k - >=5k'),\n",
       "  Text(2, 0, '<5k - >=1k'),\n",
       "  Text(3, 0, '<100k - >=50k'),\n",
       "  Text(4, 0, '<500k - >=100k'),\n",
       "  Text(5, 0, '<1k'),\n",
       "  Text(6, 0, '<1M - >=500k'),\n",
       "  Text(7, 0, '>=1M')])"
      ]
     },
     "execution_count": 57,
     "metadata": {},
     "output_type": "execute_result"
    },
    {
     "data": {
      "text/plain": [
       "<Figure size 1080x576 with 0 Axes>"
      ]
     },
     "metadata": {},
     "output_type": "display_data"
    },
    {
     "data": {
      "image/png": "[encoded data removed]",
      "text/plain": [
       "<Figure size 720x360 with 1 Axes>"
      ]
     },
     "metadata": {
      "needs_background": "light"
     },
     "output_type": "display_data"
    }
   ],
   "source": [
    "plt.figure(figsize=(15,8))\n",
    "sns.catplot(x=\"revobalcat\", y=\"loan_amnt\", \n",
    "                data=df, saturation=.5,\n",
    "                kind=\"bar\",aspect=2)\n",
    "\n",
    "plt.title('Revolving Balance vs Loan Amount')\n",
    "plt.xlabel('Revolving Balance')\n",
    "plt.ylabel('Loan Amount')\n",
    "plt.xticks(rotation=90)"
   ]
  },
  {
   "cell_type": "code",
   "execution_count": 58,
   "id": "6ee509a4-02c1-4683-9405-bf4fdb627d7f",
   "metadata": {},
   "outputs": [
    {
     "data": {
      "text/plain": [
       "(array([0, 1, 2, 3, 4, 5, 6, 7]),\n",
       " [Text(0, 0, '<50k - >=10k'),\n",
       "  Text(1, 0, '<10k - >=5k'),\n",
       "  Text(2, 0, '<5k - >=1k'),\n",
       "  Text(3, 0, '<100k - >=50k'),\n",
       "  Text(4, 0, '<500k - >=100k'),\n",
       "  Text(5, 0, '<1k'),\n",
       "  Text(6, 0, '<1M - >=500k'),\n",
       "  Text(7, 0, '>=1M')])"
      ]
     },
     "execution_count": 58,
     "metadata": {},
     "output_type": "execute_result"
    },
    {
     "data": {
      "text/plain": [
       "<Figure size 1080x576 with 0 Axes>"
      ]
     },
     "metadata": {},
     "output_type": "display_data"
    },
    {
     "data": {
      "image/png": "[encoded data removed]",
      "text/plain": [
       "<Figure size 720x360 with 1 Axes>"
      ]
     },
     "metadata": {
      "needs_background": "light"
     },
     "output_type": "display_data"
    }
   ],
   "source": [
    "plt.figure(figsize=(15,8))\n",
    "sns.catplot(x=\"revobalcat\", y=\"pub_rec_bankruptcies\", \n",
    "                data=df, saturation=.5,\n",
    "                kind=\"bar\",aspect=2)\n",
    "\n",
    "plt.title('Revolving Balance vs Bankruptcies')\n",
    "plt.xlabel('Revolving Balance')\n",
    "plt.ylabel('Bankruptcies')\n",
    "plt.xticks(rotation=90)"
   ]
  },
  {
   "cell_type": "markdown",
   "id": "147f5e5e-c438-449f-8bfa-a5eea447c72e",
   "metadata": {},
   "source": [
    "### Intrest Rate"
   ]
  },
  {
   "cell_type": "code",
   "execution_count": 59,
   "id": "2595bcb1-3238-4071-831c-b5d8e5183fb7",
   "metadata": {},
   "outputs": [
    {
     "data": {
      "text/plain": [
       "(array([0, 1, 2, 3]),\n",
       " [Text(0, 0, '<20 - >=10'),\n",
       "  Text(1, 0, '<10 - >=5'),\n",
       "  Text(2, 0, '<30 - >=20'),\n",
       "  Text(3, 0, '>=30')])"
      ]
     },
     "execution_count": 59,
     "metadata": {},
     "output_type": "execute_result"
    },
    {
     "data": {
      "text/plain": [
       "<Figure size 1080x576 with 0 Axes>"
      ]
     },
     "metadata": {},
     "output_type": "display_data"
    },
    {
     "data": {
      "image/png": "[encoded data removed]",
      "text/plain": [
       "<Figure size 720x360 with 1 Axes>"
      ]
     },
     "metadata": {
      "needs_background": "light"
     },
     "output_type": "display_data"
    }
   ],
   "source": [
    "plt.figure(figsize=(15,8))\n",
    "sns.catplot(x=\"Intratecat\", y=\"loan_amnt\", \n",
    "                data=df, saturation=.5,\n",
    "                kind=\"bar\",aspect=2)\n",
    "\n",
    "plt.title('Intrest Rate vs Loan Amount')\n",
    "plt.xlabel('Intrest Rate')\n",
    "plt.ylabel('Loan Amount')\n",
    "\n",
    "plt.xticks(rotation=90)"
   ]
  },
  {
   "cell_type": "code",
   "execution_count": 60,
   "id": "80a1f694-8ed8-471f-9e87-799f0b6e9d26",
   "metadata": {},
   "outputs": [
    {
     "data": {
      "text/plain": [
       "(array([0, 1, 2, 3]),\n",
       " [Text(0, 0, '<20 - >=10'),\n",
       "  Text(1, 0, '<10 - >=5'),\n",
       "  Text(2, 0, '<30 - >=20'),\n",
       "  Text(3, 0, '>=30')])"
      ]
     },
     "execution_count": 60,
     "metadata": {},
     "output_type": "execute_result"
    },
    {
     "data": {
      "text/plain": [
       "<Figure size 1080x576 with 0 Axes>"
      ]
     },
     "metadata": {},
     "output_type": "display_data"
    },
    {
     "data": {
      "image/png": "[encoded data removed]",
      "text/plain": [
       "<Figure size 720x360 with 1 Axes>"
      ]
     },
     "metadata": {
      "needs_background": "light"
     },
     "output_type": "display_data"
    }
   ],
   "source": [
    "plt.figure(figsize=(15,8))\n",
    "sns.catplot(x=\"Intratecat\", y=\"pub_rec_bankruptcies\", \n",
    "                data=df, saturation=.5,\n",
    "                kind=\"bar\",aspect=2)\n",
    "\n",
    "plt.title('Intrest Rate vs Bankruptcies')\n",
    "plt.xlabel('Intrest Rate')\n",
    "plt.ylabel('Bankruptcies')\n",
    "plt.xticks(rotation=90)"
   ]
  },
  {
   "cell_type": "markdown",
   "id": "cd1f4922-df63-4746-93c2-17c3dc933a97",
   "metadata": {},
   "source": [
    "### Issue date"
   ]
  },
  {
   "cell_type": "code",
   "execution_count": 84,
   "id": "ab20e1c4-4895-4d2e-b052-4ae0db4dc321",
   "metadata": {},
   "outputs": [],
   "source": [
    "##Extracting Year\n",
    "df['Year']=df['issue_d'].str[4:8]"
   ]
  },
  {
   "cell_type": "code",
   "execution_count": 62,
   "id": "9cafcf6a-3f16-4e7c-9640-c16426af6863",
   "metadata": {},
   "outputs": [
    {
     "data": {
      "text/plain": [
       "(array([0, 1, 2, 3, 4, 5, 6, 7, 8, 9]),\n",
       " [Text(0, 0, '2014'),\n",
       "  Text(1, 0, '2015'),\n",
       "  Text(2, 0, '2013'),\n",
       "  Text(3, 0, '2012'),\n",
       "  Text(4, 0, '2016'),\n",
       "  Text(5, 0, '2011'),\n",
       "  Text(6, 0, '2010'),\n",
       "  Text(7, 0, '2009'),\n",
       "  Text(8, 0, '2008'),\n",
       "  Text(9, 0, '2007')])"
      ]
     },
     "execution_count": 62,
     "metadata": {},
     "output_type": "execute_result"
    },
    {
     "data": {
      "text/plain": [
       "<Figure size 1080x576 with 0 Axes>"
      ]
     },
     "metadata": {},
     "output_type": "display_data"
    },
    {
     "data": {
      "image/png": "[encoded data removed]",
      "text/plain": [
       "<Figure size 720x360 with 1 Axes>"
      ]
     },
     "metadata": {
      "needs_background": "light"
     },
     "output_type": "display_data"
    }
   ],
   "source": [
    "plt.figure(figsize=(15,8))\n",
    "plot_orderd = df.groupby('Year')['loan_amnt'].sum().sort_values(ascending=False).index.values\n",
    "sns.catplot(x=\"Year\", y=\"loan_amnt\", \n",
    "                data=df, saturation=.5,\n",
    "                kind=\"bar\",aspect=2, order=plot_orderd)\n",
    "\n",
    "\n",
    "plt.title('Year Issued vs Loan Amount')\n",
    "plt.xlabel('Year Issued')\n",
    "plt.ylabel('Loan Amount')\n",
    "plt.xticks(rotation=90)"
   ]
  },
  {
   "cell_type": "code",
   "execution_count": 63,
   "id": "000cf43c-2d24-49da-b61f-9e00599ec896",
   "metadata": {},
   "outputs": [
    {
     "data": {
      "text/plain": [
       "(array([0, 1, 2, 3, 4, 5, 6, 7, 8, 9]),\n",
       " [Text(0, 0, '2014'),\n",
       "  Text(1, 0, '2015'),\n",
       "  Text(2, 0, '2013'),\n",
       "  Text(3, 0, '2016'),\n",
       "  Text(4, 0, '2012'),\n",
       "  Text(5, 0, '2011'),\n",
       "  Text(6, 0, '2010'),\n",
       "  Text(7, 0, '2009'),\n",
       "  Text(8, 0, '2008'),\n",
       "  Text(9, 0, '2007')])"
      ]
     },
     "execution_count": 63,
     "metadata": {},
     "output_type": "execute_result"
    },
    {
     "data": {
      "text/plain": [
       "<Figure size 1080x576 with 0 Axes>"
      ]
     },
     "metadata": {},
     "output_type": "display_data"
    },
    {
     "data": {
      "image/png": "[encoded data removed]",
      "text/plain": [
       "<Figure size 720x360 with 1 Axes>"
      ]
     },
     "metadata": {
      "needs_background": "light"
     },
     "output_type": "display_data"
    }
   ],
   "source": [
    "plt.figure(figsize=(15,8))\n",
    "plot_order = df.groupby('Year')['pub_rec_bankruptcies'].sum().sort_values(ascending=False).index.values\n",
    "\n",
    "sns.catplot(x=\"Year\", y=\"pub_rec_bankruptcies\", \n",
    "                data=df, saturation=.5,\n",
    "                kind=\"bar\",aspect=2, order=plot_order)\n",
    "\n",
    "plt.title('Year Issued vs Bankruptcies')\n",
    "plt.xlabel('Year Issued')\n",
    "plt.ylabel('Bankruptcies')\n",
    "plt.xticks(rotation=90)"
   ]
  },
  {
   "cell_type": "markdown",
   "id": "6e6083d2-6628-4ee6-988a-c1168d14f422",
   "metadata": {},
   "source": [
    "### Grade"
   ]
  },
  {
   "cell_type": "code",
   "execution_count": 64,
   "id": "1090f984-ca66-4592-b1e8-ac7288cc5fe6",
   "metadata": {},
   "outputs": [
    {
     "data": {
      "text/plain": [
       "Text(-9.075000000000003, 0.5, 'Loan Amount')"
      ]
     },
     "execution_count": 64,
     "metadata": {},
     "output_type": "execute_result"
    },
    {
     "data": {
      "text/plain": [
       "<Figure size 1080x576 with 0 Axes>"
      ]
     },
     "metadata": {},
     "output_type": "display_data"
    },
    {
     "data": {
      "image/png": "[encoded data removed]",
      "text/plain": [
       "<Figure size 720x360 with 1 Axes>"
      ]
     },
     "metadata": {
      "needs_background": "light"
     },
     "output_type": "display_data"
    }
   ],
   "source": [
    "plt.figure(figsize=(15,8))\n",
    "sns.catplot(x=\"grade\", y=\"loan_amnt\", \n",
    "                data=df, saturation=.5,\n",
    "                kind=\"bar\",aspect=2)\n",
    "\n",
    "plt.title('Grade vs Loan Amount')\n",
    "plt.xlabel('Grade')\n",
    "plt.ylabel('Loan Amount')\n"
   ]
  },
  {
   "cell_type": "code",
   "execution_count": 65,
   "id": "0d210e9b-2dcb-4c4d-be05-09742916ae87",
   "metadata": {},
   "outputs": [
    {
     "data": {
      "text/plain": [
       "Text(0.42499999999999716, 0.5, 'Bankruptcies')"
      ]
     },
     "execution_count": 65,
     "metadata": {},
     "output_type": "execute_result"
    },
    {
     "data": {
      "text/plain": [
       "<Figure size 1080x576 with 0 Axes>"
      ]
     },
     "metadata": {},
     "output_type": "display_data"
    },
    {
     "data": {
      "image/png": "[encoded data removed]",
      "text/plain": [
       "<Figure size 720x360 with 1 Axes>"
      ]
     },
     "metadata": {
      "needs_background": "light"
     },
     "output_type": "display_data"
    }
   ],
   "source": [
    "plt.figure(figsize=(15,8))\n",
    "sns.catplot(x=\"grade\", y=\"pub_rec_bankruptcies\", \n",
    "                data=df, saturation=.5,\n",
    "                kind=\"bar\",aspect=2)\n",
    "\n",
    "plt.title('Grade vs Bankruptcies')\n",
    "plt.xlabel('Grade')\n",
    "plt.ylabel('Bankruptcies')"
   ]
  },
  {
   "cell_type": "code",
   "execution_count": 86,
   "id": "daf3bc9d-edd1-481d-be19-052078cd3400",
   "metadata": {},
   "outputs": [
    {
     "data": {
      "text/plain": [
       "Text(-9.074999999999996, 0.5, 'Annual Income')"
      ]
     },
     "execution_count": 86,
     "metadata": {},
     "output_type": "execute_result"
    },
    {
     "data": {
      "text/plain": [
       "<Figure size 1080x576 with 0 Axes>"
      ]
     },
     "metadata": {},
     "output_type": "display_data"
    },
    {
     "data": {
      "image/png": "[encoded data removed]",
      "text/plain": [
       "<Figure size 216x360 with 1 Axes>"
      ]
     },
     "metadata": {
      "needs_background": "light"
     },
     "output_type": "display_data"
    }
   ],
   "source": [
    "## Inrelation to Annual Income\n",
    "\n",
    "plt.figure(figsize=(15,8))\n",
    "sns.catplot(x=\"grade\", y=\"annual_inc\", \n",
    "                data=df, saturation=.5,\n",
    "                kind=\"bar\",aspect=.6)\n",
    "plt.title('Grade vs Annual Income')\n",
    "plt.xlabel('Grade')\n",
    "plt.ylabel('Annual Income')\n"
   ]
  },
  {
   "cell_type": "markdown",
   "id": "4e5d4e82-d876-4df4-8e84-f67e30e94d1e",
   "metadata": {},
   "source": [
    "### Open Accounts"
   ]
  },
  {
   "cell_type": "code",
   "execution_count": 67,
   "id": "4ff932e3-c0a7-4e12-bead-2aefe2de4c24",
   "metadata": {},
   "outputs": [
    {
     "data": {
      "text/plain": [
       "Text(-9.075000000000003, 0.5, 'Loan Amount')"
      ]
     },
     "execution_count": 67,
     "metadata": {},
     "output_type": "execute_result"
    },
    {
     "data": {
      "text/plain": [
       "<Figure size 1080x576 with 0 Axes>"
      ]
     },
     "metadata": {},
     "output_type": "display_data"
    },
    {
     "data": {
      "image/png": "[encoded data removed]",
      "text/plain": [
       "<Figure size 720x360 with 1 Axes>"
      ]
     },
     "metadata": {
      "needs_background": "light"
     },
     "output_type": "display_data"
    }
   ],
   "source": [
    "plt.figure(figsize=(15,8))\n",
    "plot_orders = df.groupby('openacccat')['loan_amnt'].sum().sort_values(ascending=False).index.values\n",
    "sns.catplot(x=\"openacccat\", y=\"loan_amnt\", \n",
    "                data=df, saturation=.5,\n",
    "                kind=\"bar\",aspect=2, order=plot_orders)\n",
    "\n",
    "plt.title('Number of Open Accounts vs Loan Amount')\n",
    "plt.xlabel('Open Accounts')\n",
    "plt.ylabel('Loan Amount')\n"
   ]
  },
  {
   "cell_type": "code",
   "execution_count": 68,
   "id": "20a2c984-fdf1-4c86-b41b-19bb27dc55ea",
   "metadata": {},
   "outputs": [
    {
     "data": {
      "text/plain": [
       "Text(0.42499999999999716, 0.5, 'Bankruptcies')"
      ]
     },
     "execution_count": 68,
     "metadata": {},
     "output_type": "execute_result"
    },
    {
     "data": {
      "text/plain": [
       "<Figure size 1080x576 with 0 Axes>"
      ]
     },
     "metadata": {},
     "output_type": "display_data"
    },
    {
     "data": {
      "image/png": "[encoded data removed]",
      "text/plain": [
       "<Figure size 720x360 with 1 Axes>"
      ]
     },
     "metadata": {
      "needs_background": "light"
     },
     "output_type": "display_data"
    }
   ],
   "source": [
    "plt.figure(figsize=(15,8))\n",
    "sns.catplot(x=\"openacccat\", y=\"pub_rec_bankruptcies\", \n",
    "                data=df, saturation=.5,\n",
    "                kind=\"bar\",aspect=2)\n",
    "\n",
    "plt.title('Number of Open Accounts vs Bankruptcies')\n",
    "plt.xlabel('Open Accounts')\n",
    "plt.ylabel('Bankruptcies')\n"
   ]
  },
  {
   "cell_type": "markdown",
   "id": "15e0533e-3a35-45ae-8ae3-62888919a12c",
   "metadata": {},
   "source": [
    "### Mortgage Accounts"
   ]
  },
  {
   "cell_type": "code",
   "execution_count": 69,
   "id": "36853e96-42c0-4555-8f38-16d457eb2b02",
   "metadata": {},
   "outputs": [
    {
     "data": {
      "text/plain": [
       "(array([0, 1, 2, 3, 4]),\n",
       " [Text(0, 0, '<5'),\n",
       "  Text(1, 0, '<10 - >=5'),\n",
       "  Text(2, 0, '<20 - >=10'),\n",
       "  Text(3, 0, '<30 - >=20'),\n",
       "  Text(4, 0, '>=30')])"
      ]
     },
     "execution_count": 69,
     "metadata": {},
     "output_type": "execute_result"
    },
    {
     "data": {
      "image/png": "[encoded data removed]",
      "text/plain": [
       "<Figure size 216x360 with 1 Axes>"
      ]
     },
     "metadata": {
      "needs_background": "light"
     },
     "output_type": "display_data"
    }
   ],
   "source": [
    "sns.catplot(x=\"mortacccat\", y=\"loan_amnt\", \n",
    "                data=df, saturation=.5,\n",
    "                kind=\"bar\",aspect=.6)\n",
    "\n",
    "plt.title('Number of Mortgage Accounts vs Loan Amount')\n",
    "plt.xlabel('Mortgage Accounts')\n",
    "plt.ylabel('Loan Amount')\n",
    "plt.xticks(rotation=90)"
   ]
  },
  {
   "cell_type": "code",
   "execution_count": 70,
   "id": "81315329-fd36-43aa-a984-dc99958c228c",
   "metadata": {},
   "outputs": [
    {
     "data": {
      "text/plain": [
       "(array([0, 1, 2, 3, 4]),\n",
       " [Text(0, 0, '<5'),\n",
       "  Text(1, 0, '<10 - >=5'),\n",
       "  Text(2, 0, '<20 - >=10'),\n",
       "  Text(3, 0, '<30 - >=20'),\n",
       "  Text(4, 0, '>=30')])"
      ]
     },
     "execution_count": 70,
     "metadata": {},
     "output_type": "execute_result"
    },
    {
     "data": {
      "image/png": "[encoded data removed]",
      "text/plain": [
       "<Figure size 216x360 with 1 Axes>"
      ]
     },
     "metadata": {
      "needs_background": "light"
     },
     "output_type": "display_data"
    }
   ],
   "source": [
    "sns.catplot(x=\"mortacccat\", y=\"pub_rec_bankruptcies\", \n",
    "                data=df, saturation=.5,\n",
    "                kind=\"bar\",aspect=.6)\n",
    "\n",
    "plt.title('Number of Mortgage Accounts vs Bankruptcies')\n",
    "plt.xlabel('Mortgage Accounts')\n",
    "plt.ylabel('Bankruptcies')\n",
    "plt.xticks(rotation=90)"
   ]
  },
  {
   "cell_type": "code",
   "execution_count": null,
   "id": "5f47839b-e40c-476c-9869-ccd11e878a3b",
   "metadata": {},
   "outputs": [],
   "source": [
    "sns.catplot(x=\"mortacccat\", y=\"pub_rec_bankruptcies\", \n",
    "                data=df, saturation=.5,\n",
    "                kind=\"bar\",aspect=.6)\n",
    "\n",
    "plt.title('Number of Mortgage Accounts vs Bankruptcies')\n",
    "plt.xlabel('Mortgage Accounts')\n",
    "plt.ylabel('Bankruptcies')\n",
    "plt.xticks(rotation=90)"
   ]
  },
  {
   "cell_type": "markdown",
   "id": "9afb688e-cec2-4d77-bb97-bff08f6b511f",
   "metadata": {},
   "source": [
    "### DTI"
   ]
  },
  {
   "cell_type": "code",
   "execution_count": 79,
   "id": "9b9c7fe3-55e4-47b8-a57c-254bb3fabdcc",
   "metadata": {},
   "outputs": [
    {
     "data": {
      "text/plain": [
       "(array([0, 1, 2, 3, 4, 5, 6]),\n",
       " [Text(0, 0, '<30 - >=20'),\n",
       "  Text(1, 0, '<20 - >=10'),\n",
       "  Text(2, 0, '<5'),\n",
       "  Text(3, 0, '<40 - >=30'),\n",
       "  Text(4, 0, '<10 - >=5'),\n",
       "  Text(5, 0, '<50 - >=40'),\n",
       "  Text(6, 0, '>=50')])"
      ]
     },
     "execution_count": 79,
     "metadata": {},
     "output_type": "execute_result"
    },
    {
     "data": {
      "image/png": "[encoded data removed]",
      "text/plain": [
       "<Figure size 216x360 with 1 Axes>"
      ]
     },
     "metadata": {
      "needs_background": "light"
     },
     "output_type": "display_data"
    }
   ],
   "source": [
    "sns.catplot(x=\"dticat\", y=\"loan_amnt\", \n",
    "                data=df, saturation=.5,\n",
    "                kind=\"bar\",aspect=.6)\n",
    "\n",
    "plt.title('DTI vs Loan Amount')\n",
    "plt.xlabel('DTI')\n",
    "plt.ylabel('Loan Amount')\n",
    "plt.xticks(rotation=90)"
   ]
  },
  {
   "cell_type": "code",
   "execution_count": 80,
   "id": "9b29299c-fb2c-4dbb-8c47-90be0e63330e",
   "metadata": {},
   "outputs": [
    {
     "data": {
      "text/plain": [
       "(array([0, 1, 2, 3, 4, 5, 6]),\n",
       " [Text(0, 0, '<30 - >=20'),\n",
       "  Text(1, 0, '<20 - >=10'),\n",
       "  Text(2, 0, '<5'),\n",
       "  Text(3, 0, '<40 - >=30'),\n",
       "  Text(4, 0, '<10 - >=5'),\n",
       "  Text(5, 0, '<50 - >=40'),\n",
       "  Text(6, 0, '>=50')])"
      ]
     },
     "execution_count": 80,
     "metadata": {},
     "output_type": "execute_result"
    },
    {
     "data": {
      "image/png": "[encoded data removed]",
      "text/plain": [
       "<Figure size 216x360 with 1 Axes>"
      ]
     },
     "metadata": {
      "needs_background": "light"
     },
     "output_type": "display_data"
    }
   ],
   "source": [
    "sns.catplot(x=\"dticat\", y=\"pub_rec_bankruptcies\", \n",
    "                data=df, saturation=.5,\n",
    "                kind=\"bar\",aspect=.6)\n",
    "\n",
    "plt.title('DTI vs Bankruptcies')\n",
    "plt.xlabel('DTI')\n",
    "plt.ylabel('Bankruptcies')\n",
    "plt.xticks(rotation=90)"
   ]
  },
  {
   "cell_type": "code",
   "execution_count": 83,
   "id": "9985f0e6-bff4-4dcb-b057-68fcc0e3538f",
   "metadata": {},
   "outputs": [
    {
     "data": {
      "text/html": [
       "<div>\n",
       "<style scoped>\n",
       "    .dataframe tbody tr th:only-of-type {\n",
       "        vertical-align: middle;\n",
       "    }\n",
       "\n",
       "    .dataframe tbody tr th {\n",
       "        vertical-align: top;\n",
       "    }\n",
       "\n",
       "    .dataframe thead th {\n",
       "        text-align: right;\n",
       "    }\n",
       "</style>\n",
       "<table border=\"1\" class=\"dataframe\">\n",
       "  <thead>\n",
       "    <tr style=\"text-align: right;\">\n",
       "      <th></th>\n",
       "      <th>loan_amnt</th>\n",
       "      <th>term</th>\n",
       "      <th>int_rate</th>\n",
       "      <th>installment</th>\n",
       "      <th>grade</th>\n",
       "      <th>sub_grade</th>\n",
       "      <th>emp_title</th>\n",
       "      <th>emp_length</th>\n",
       "      <th>home_ownership</th>\n",
       "      <th>annual_inc</th>\n",
       "      <th>verification_status</th>\n",
       "      <th>issue_d</th>\n",
       "      <th>loan_status</th>\n",
       "      <th>purpose</th>\n",
       "      <th>title</th>\n",
       "      <th>dti</th>\n",
       "      <th>earliest_cr_line</th>\n",
       "      <th>open_acc</th>\n",
       "      <th>pub_rec</th>\n",
       "      <th>revol_bal</th>\n",
       "      <th>revol_util</th>\n",
       "      <th>total_acc</th>\n",
       "      <th>initial_list_status</th>\n",
       "      <th>application_type</th>\n",
       "      <th>mort_acc</th>\n",
       "      <th>pub_rec_bankruptcies</th>\n",
       "      <th>address</th>\n",
       "      <th>Loanamtcat</th>\n",
       "      <th>Intratecat</th>\n",
       "      <th>Anincomecat</th>\n",
       "      <th>openacccat</th>\n",
       "      <th>revobalcat</th>\n",
       "      <th>Revolvutilcat</th>\n",
       "      <th>Totalacccat</th>\n",
       "      <th>mortacccat</th>\n",
       "      <th>pubrecbankruptccat</th>\n",
       "      <th>Year</th>\n",
       "      <th>dticat</th>\n",
       "    </tr>\n",
       "  </thead>\n",
       "  <tbody>\n",
       "    <tr>\n",
       "      <th>0</th>\n",
       "      <td>10000.0</td>\n",
       "      <td>36 months</td>\n",
       "      <td>11.44</td>\n",
       "      <td>329.48</td>\n",
       "      <td>B</td>\n",
       "      <td>B4</td>\n",
       "      <td>Marketing</td>\n",
       "      <td>10+ years</td>\n",
       "      <td>RENT</td>\n",
       "      <td>117000.0</td>\n",
       "      <td>Not Verified</td>\n",
       "      <td>Jan-2015</td>\n",
       "      <td>Fully Paid</td>\n",
       "      <td>vacation</td>\n",
       "      <td>Vacation</td>\n",
       "      <td>26.24</td>\n",
       "      <td>Jun-1990</td>\n",
       "      <td>16.0</td>\n",
       "      <td>0.0</td>\n",
       "      <td>36369.0</td>\n",
       "      <td>41.8</td>\n",
       "      <td>25.0</td>\n",
       "      <td>w</td>\n",
       "      <td>INDIVIDUAL</td>\n",
       "      <td>0.0</td>\n",
       "      <td>0.0</td>\n",
       "      <td>0174 Michelle Gateway\\r\\nMendozaberg, OK 22690</td>\n",
       "      <td>&lt;20k - &gt;=10k</td>\n",
       "      <td>&lt;20 - &gt;=10</td>\n",
       "      <td>&lt;500k - &gt;=100k</td>\n",
       "      <td>&lt;20 - &gt;=10</td>\n",
       "      <td>&lt;50k - &gt;=10k</td>\n",
       "      <td>&lt;50</td>\n",
       "      <td>&lt;30 - &gt;=20</td>\n",
       "      <td>&lt;5</td>\n",
       "      <td>&lt;2</td>\n",
       "      <td>2015</td>\n",
       "      <td>&lt;30 - &gt;=20</td>\n",
       "    </tr>\n",
       "    <tr>\n",
       "      <th>1</th>\n",
       "      <td>8000.0</td>\n",
       "      <td>36 months</td>\n",
       "      <td>11.99</td>\n",
       "      <td>265.68</td>\n",
       "      <td>B</td>\n",
       "      <td>B5</td>\n",
       "      <td>Credit analyst</td>\n",
       "      <td>4 years</td>\n",
       "      <td>MORTGAGE</td>\n",
       "      <td>65000.0</td>\n",
       "      <td>Not Verified</td>\n",
       "      <td>Jan-2015</td>\n",
       "      <td>Fully Paid</td>\n",
       "      <td>debt_consolidation</td>\n",
       "      <td>Debt consolidation</td>\n",
       "      <td>22.05</td>\n",
       "      <td>Jul-2004</td>\n",
       "      <td>17.0</td>\n",
       "      <td>0.0</td>\n",
       "      <td>20131.0</td>\n",
       "      <td>53.3</td>\n",
       "      <td>27.0</td>\n",
       "      <td>f</td>\n",
       "      <td>INDIVIDUAL</td>\n",
       "      <td>3.0</td>\n",
       "      <td>0.0</td>\n",
       "      <td>1076 Carney Fort Apt. 347\\r\\nLoganmouth, SD 05113</td>\n",
       "      <td>&lt;10k - &gt;=5k</td>\n",
       "      <td>&lt;20 - &gt;=10</td>\n",
       "      <td>&lt;100k - &gt;=50k</td>\n",
       "      <td>&lt;20 - &gt;=10</td>\n",
       "      <td>&lt;50k - &gt;=10k</td>\n",
       "      <td>&lt;100 - &gt;=50</td>\n",
       "      <td>&lt;30 - &gt;=20</td>\n",
       "      <td>&lt;5</td>\n",
       "      <td>&lt;2</td>\n",
       "      <td>2015</td>\n",
       "      <td>&lt;30 - &gt;=20</td>\n",
       "    </tr>\n",
       "    <tr>\n",
       "      <th>2</th>\n",
       "      <td>15600.0</td>\n",
       "      <td>36 months</td>\n",
       "      <td>10.49</td>\n",
       "      <td>506.97</td>\n",
       "      <td>B</td>\n",
       "      <td>B3</td>\n",
       "      <td>Statistician</td>\n",
       "      <td>&lt; 1 year</td>\n",
       "      <td>RENT</td>\n",
       "      <td>43057.0</td>\n",
       "      <td>Source Verified</td>\n",
       "      <td>Jan-2015</td>\n",
       "      <td>Fully Paid</td>\n",
       "      <td>credit_card</td>\n",
       "      <td>Credit card refinancing</td>\n",
       "      <td>12.79</td>\n",
       "      <td>Aug-2007</td>\n",
       "      <td>13.0</td>\n",
       "      <td>0.0</td>\n",
       "      <td>11987.0</td>\n",
       "      <td>92.2</td>\n",
       "      <td>26.0</td>\n",
       "      <td>f</td>\n",
       "      <td>INDIVIDUAL</td>\n",
       "      <td>0.0</td>\n",
       "      <td>0.0</td>\n",
       "      <td>87025 Mark Dale Apt. 269\\r\\nNew Sabrina, WV 05113</td>\n",
       "      <td>&lt;20k - &gt;=10k</td>\n",
       "      <td>&lt;20 - &gt;=10</td>\n",
       "      <td>&lt;50k - &gt;=10k</td>\n",
       "      <td>&lt;20 - &gt;=10</td>\n",
       "      <td>&lt;50k - &gt;=10k</td>\n",
       "      <td>&lt;100 - &gt;=50</td>\n",
       "      <td>&lt;30 - &gt;=20</td>\n",
       "      <td>&lt;5</td>\n",
       "      <td>&lt;2</td>\n",
       "      <td>2015</td>\n",
       "      <td>&lt;20 - &gt;=10</td>\n",
       "    </tr>\n",
       "    <tr>\n",
       "      <th>3</th>\n",
       "      <td>7200.0</td>\n",
       "      <td>36 months</td>\n",
       "      <td>6.49</td>\n",
       "      <td>220.65</td>\n",
       "      <td>A</td>\n",
       "      <td>A2</td>\n",
       "      <td>Client Advocate</td>\n",
       "      <td>6 years</td>\n",
       "      <td>RENT</td>\n",
       "      <td>54000.0</td>\n",
       "      <td>Not Verified</td>\n",
       "      <td>Nov-2014</td>\n",
       "      <td>Fully Paid</td>\n",
       "      <td>credit_card</td>\n",
       "      <td>Credit card refinancing</td>\n",
       "      <td>2.60</td>\n",
       "      <td>Sep-2006</td>\n",
       "      <td>6.0</td>\n",
       "      <td>0.0</td>\n",
       "      <td>5472.0</td>\n",
       "      <td>21.5</td>\n",
       "      <td>13.0</td>\n",
       "      <td>f</td>\n",
       "      <td>INDIVIDUAL</td>\n",
       "      <td>0.0</td>\n",
       "      <td>0.0</td>\n",
       "      <td>823 Reid Ford\\r\\nDelacruzside, MA 00813</td>\n",
       "      <td>&lt;10k - &gt;=5k</td>\n",
       "      <td>&lt;10 - &gt;=5</td>\n",
       "      <td>&lt;100k - &gt;=50k</td>\n",
       "      <td>&lt;10</td>\n",
       "      <td>&lt;10k - &gt;=5k</td>\n",
       "      <td>&lt;50</td>\n",
       "      <td>&lt;20 - &gt;=10</td>\n",
       "      <td>&lt;5</td>\n",
       "      <td>&lt;2</td>\n",
       "      <td>2014</td>\n",
       "      <td>&lt;5</td>\n",
       "    </tr>\n",
       "    <tr>\n",
       "      <th>4</th>\n",
       "      <td>24375.0</td>\n",
       "      <td>60 months</td>\n",
       "      <td>17.27</td>\n",
       "      <td>609.33</td>\n",
       "      <td>C</td>\n",
       "      <td>C5</td>\n",
       "      <td>Destiny Management Inc.</td>\n",
       "      <td>9 years</td>\n",
       "      <td>MORTGAGE</td>\n",
       "      <td>55000.0</td>\n",
       "      <td>Verified</td>\n",
       "      <td>Apr-2013</td>\n",
       "      <td>Charged Off</td>\n",
       "      <td>credit_card</td>\n",
       "      <td>Credit Card Refinance</td>\n",
       "      <td>33.95</td>\n",
       "      <td>Mar-1999</td>\n",
       "      <td>13.0</td>\n",
       "      <td>0.0</td>\n",
       "      <td>24584.0</td>\n",
       "      <td>69.8</td>\n",
       "      <td>43.0</td>\n",
       "      <td>f</td>\n",
       "      <td>INDIVIDUAL</td>\n",
       "      <td>1.0</td>\n",
       "      <td>0.0</td>\n",
       "      <td>679 Luna Roads\\r\\nGreggshire, VA 11650</td>\n",
       "      <td>&lt;30k - &gt;=20k</td>\n",
       "      <td>&lt;20 - &gt;=10</td>\n",
       "      <td>&lt;100k - &gt;=50k</td>\n",
       "      <td>&lt;20 - &gt;=10</td>\n",
       "      <td>&lt;50k - &gt;=10k</td>\n",
       "      <td>&lt;100 - &gt;=50</td>\n",
       "      <td>&lt;50 - &gt;=40</td>\n",
       "      <td>&lt;5</td>\n",
       "      <td>&lt;2</td>\n",
       "      <td>2013</td>\n",
       "      <td>&lt;40 - &gt;=30</td>\n",
       "    </tr>\n",
       "  </tbody>\n",
       "</table>\n",
       "</div>"
      ],
      "text/plain": [
       "   loan_amnt        term  int_rate  installment grade sub_grade  \\\n",
       "0    10000.0   36 months     11.44       329.48     B        B4   \n",
       "1     8000.0   36 months     11.99       265.68     B        B5   \n",
       "2    15600.0   36 months     10.49       506.97     B        B3   \n",
       "3     7200.0   36 months      6.49       220.65     A        A2   \n",
       "4    24375.0   60 months     17.27       609.33     C        C5   \n",
       "\n",
       "                 emp_title emp_length home_ownership  annual_inc  \\\n",
       "0                Marketing  10+ years           RENT    117000.0   \n",
       "1          Credit analyst     4 years       MORTGAGE     65000.0   \n",
       "2             Statistician   < 1 year           RENT     43057.0   \n",
       "3          Client Advocate    6 years           RENT     54000.0   \n",
       "4  Destiny Management Inc.    9 years       MORTGAGE     55000.0   \n",
       "\n",
       "  verification_status   issue_d  loan_status             purpose  \\\n",
       "0        Not Verified  Jan-2015   Fully Paid            vacation   \n",
       "1        Not Verified  Jan-2015   Fully Paid  debt_consolidation   \n",
       "2     Source Verified  Jan-2015   Fully Paid         credit_card   \n",
       "3        Not Verified  Nov-2014   Fully Paid         credit_card   \n",
       "4            Verified  Apr-2013  Charged Off         credit_card   \n",
       "\n",
       "                     title    dti earliest_cr_line  open_acc  pub_rec  \\\n",
       "0                 Vacation  26.24         Jun-1990      16.0      0.0   \n",
       "1       Debt consolidation  22.05         Jul-2004      17.0      0.0   \n",
       "2  Credit card refinancing  12.79         Aug-2007      13.0      0.0   \n",
       "3  Credit card refinancing   2.60         Sep-2006       6.0      0.0   \n",
       "4    Credit Card Refinance  33.95         Mar-1999      13.0      0.0   \n",
       "\n",
       "   revol_bal  revol_util  total_acc initial_list_status application_type  \\\n",
       "0    36369.0        41.8       25.0                   w       INDIVIDUAL   \n",
       "1    20131.0        53.3       27.0                   f       INDIVIDUAL   \n",
       "2    11987.0        92.2       26.0                   f       INDIVIDUAL   \n",
       "3     5472.0        21.5       13.0                   f       INDIVIDUAL   \n",
       "4    24584.0        69.8       43.0                   f       INDIVIDUAL   \n",
       "\n",
       "   mort_acc  pub_rec_bankruptcies  \\\n",
       "0       0.0                   0.0   \n",
       "1       3.0                   0.0   \n",
       "2       0.0                   0.0   \n",
       "3       0.0                   0.0   \n",
       "4       1.0                   0.0   \n",
       "\n",
       "                                             address    Loanamtcat  \\\n",
       "0     0174 Michelle Gateway\\r\\nMendozaberg, OK 22690  <20k - >=10k   \n",
       "1  1076 Carney Fort Apt. 347\\r\\nLoganmouth, SD 05113   <10k - >=5k   \n",
       "2  87025 Mark Dale Apt. 269\\r\\nNew Sabrina, WV 05113  <20k - >=10k   \n",
       "3            823 Reid Ford\\r\\nDelacruzside, MA 00813   <10k - >=5k   \n",
       "4             679 Luna Roads\\r\\nGreggshire, VA 11650  <30k - >=20k   \n",
       "\n",
       "   Intratecat     Anincomecat  openacccat    revobalcat Revolvutilcat  \\\n",
       "0  <20 - >=10  <500k - >=100k  <20 - >=10  <50k - >=10k           <50   \n",
       "1  <20 - >=10   <100k - >=50k  <20 - >=10  <50k - >=10k   <100 - >=50   \n",
       "2  <20 - >=10    <50k - >=10k  <20 - >=10  <50k - >=10k   <100 - >=50   \n",
       "3   <10 - >=5   <100k - >=50k         <10   <10k - >=5k           <50   \n",
       "4  <20 - >=10   <100k - >=50k  <20 - >=10  <50k - >=10k   <100 - >=50   \n",
       "\n",
       "  Totalacccat mortacccat pubrecbankruptccat  Year      dticat  \n",
       "0  <30 - >=20         <5                 <2  2015  <30 - >=20  \n",
       "1  <30 - >=20         <5                 <2  2015  <30 - >=20  \n",
       "2  <30 - >=20         <5                 <2  2015  <20 - >=10  \n",
       "3  <20 - >=10         <5                 <2  2014          <5  \n",
       "4  <50 - >=40         <5                 <2  2013  <40 - >=30  "
      ]
     },
     "execution_count": 83,
     "metadata": {},
     "output_type": "execute_result"
    }
   ],
   "source": [
    "df.head()"
   ]
  },
  {
   "cell_type": "markdown",
   "id": "03a9e93f-2bfe-4f31-b6be-6cbcbb179aa7",
   "metadata": {},
   "source": [
    "# Summary"
   ]
  },
  {
   "cell_type": "markdown",
   "id": "8d42745d-d6f6-43eb-8471-aed24a0ffa0e",
   "metadata": {},
   "source": [
    "-Employment Length, Verification, and Application Type did not affect loan repayment. \n",
    "\n",
    "-Purpose, Annual Income, Home Ownership, Number of Mortgage Accounts, Term Length, \n",
    "Issue Year, Grade, Number of Accounts Open, Interest Rate, , DTI Revolving Balance affected loan repayment\n"
   ]
  },
  {
   "cell_type": "markdown",
   "id": "d93bc487-3c6e-4582-8fb2-fb19720eb852",
   "metadata": {},
   "source": [
    "Suggestions:\n",
    "\n",
    "1. Purpose- Avoid clients that request for home improvement, medical, renewable energy, vacation, and debt. \n",
    "2. Annual Income- Avoid clients who request loans with annual income of  <50k- >=5k.\n",
    "3. Home Ownership- Avoid clients who request loans to Rent lodging.\n",
    "4. Mortgage Accounts- Avoid clients who had  <30->=20 mortgage accounts\n",
    "5. Term Length – Give out more 60 month loans\n",
    "6. Issue Year- Not changeable. \n",
    "7. Grade- Offer more to clients of Grade A status and less to C-G. \n",
    "8. Open Accounts- Monitor more on accounts <10-<20 and <50-40 accounts. \n",
    "9. Interest Rate- Lower interest rate. \n",
    "10. Revolving Balance- Avoid people with range of <1k-<10k range revolving balance.  \n",
    "11. DTI- market to people with DTI >=50% and avoid people with DTI of <5-<10. \n"
   ]
  }
 ],
 "metadata": {
  "kernelspec": {
   "display_name": "Python 3 (ipykernel)",
   "language": "python",
   "name": "python3"
  },
  "language_info": {
   "codemirror_mode": {
    "name": "ipython",
    "version": 3
   },
   "file_extension": ".py",
   "mimetype": "text/x-python",
   "name": "python",
   "nbconvert_exporter": "python",
   "pygments_lexer": "ipython3",
   "version": "3.9.7"
  }
 },
 "nbformat": 4,
 "nbformat_minor": 5
}
